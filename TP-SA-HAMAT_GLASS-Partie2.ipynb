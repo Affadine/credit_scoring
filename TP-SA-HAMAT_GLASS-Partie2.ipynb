{
 "cells": [
  {
   "cell_type": "code",
   "execution_count": 1,
   "metadata": {},
   "outputs": [],
   "source": [
    "import numpy as np\n",
    "np.set_printoptions(threshold=10000,suppress=True)\n",
    "import pandas as pd\n",
    "import warnings\n",
    "import matplotlib.pyplot as plt\n",
    "\n",
    "warnings.filterwarnings('ignore')"
   ]
  },
  {
   "cell_type": "code",
   "execution_count": 2,
   "metadata": {},
   "outputs": [
    {
     "name": "stdout",
     "output_type": "stream",
     "text": [
      "nb of columns 16\n"
     ]
    }
   ],
   "source": [
    "# Import du jeu de données\n",
    "dfCredit = pd.read_csv('credit.data', sep='\\t')\n",
    "nbColumns = len(dfCredit.columns)\n",
    "print(\"nb of columns\", nbColumns)\n",
    "X = dfCredit.iloc[:,:nbColumns-1]\n",
    "Y = dfCredit.iloc[:,nbColumns-1]"
   ]
  },
  {
   "cell_type": "code",
   "execution_count": 3,
   "metadata": {},
   "outputs": [
    {
     "data": {
      "text/html": [
       "<div>\n",
       "<style scoped>\n",
       "    .dataframe tbody tr th:only-of-type {\n",
       "        vertical-align: middle;\n",
       "    }\n",
       "\n",
       "    .dataframe tbody tr th {\n",
       "        vertical-align: top;\n",
       "    }\n",
       "\n",
       "    .dataframe thead th {\n",
       "        text-align: right;\n",
       "    }\n",
       "</style>\n",
       "<table border=\"1\" class=\"dataframe\">\n",
       "  <thead>\n",
       "    <tr style=\"text-align: right;\">\n",
       "      <th></th>\n",
       "      <th>b</th>\n",
       "      <th>30.83</th>\n",
       "      <th>0</th>\n",
       "      <th>u</th>\n",
       "      <th>g</th>\n",
       "      <th>w</th>\n",
       "      <th>v</th>\n",
       "      <th>1.25</th>\n",
       "      <th>t</th>\n",
       "      <th>t.1</th>\n",
       "      <th>1</th>\n",
       "      <th>f</th>\n",
       "      <th>g.1</th>\n",
       "      <th>202</th>\n",
       "      <th>0.1</th>\n",
       "      <th>+</th>\n",
       "    </tr>\n",
       "  </thead>\n",
       "  <tbody>\n",
       "    <tr>\n",
       "      <th>0</th>\n",
       "      <td>a</td>\n",
       "      <td>58.67</td>\n",
       "      <td>4.460</td>\n",
       "      <td>u</td>\n",
       "      <td>g</td>\n",
       "      <td>q</td>\n",
       "      <td>h</td>\n",
       "      <td>3.04</td>\n",
       "      <td>t</td>\n",
       "      <td>t</td>\n",
       "      <td>6</td>\n",
       "      <td>f</td>\n",
       "      <td>g</td>\n",
       "      <td>43</td>\n",
       "      <td>560</td>\n",
       "      <td>+</td>\n",
       "    </tr>\n",
       "    <tr>\n",
       "      <th>1</th>\n",
       "      <td>a</td>\n",
       "      <td>24.50</td>\n",
       "      <td>0.500</td>\n",
       "      <td>u</td>\n",
       "      <td>g</td>\n",
       "      <td>q</td>\n",
       "      <td>h</td>\n",
       "      <td>1.50</td>\n",
       "      <td>t</td>\n",
       "      <td>f</td>\n",
       "      <td>0</td>\n",
       "      <td>f</td>\n",
       "      <td>g</td>\n",
       "      <td>280</td>\n",
       "      <td>824</td>\n",
       "      <td>+</td>\n",
       "    </tr>\n",
       "    <tr>\n",
       "      <th>2</th>\n",
       "      <td>b</td>\n",
       "      <td>27.83</td>\n",
       "      <td>1.540</td>\n",
       "      <td>u</td>\n",
       "      <td>g</td>\n",
       "      <td>w</td>\n",
       "      <td>v</td>\n",
       "      <td>3.75</td>\n",
       "      <td>t</td>\n",
       "      <td>t</td>\n",
       "      <td>5</td>\n",
       "      <td>t</td>\n",
       "      <td>g</td>\n",
       "      <td>100</td>\n",
       "      <td>3</td>\n",
       "      <td>+</td>\n",
       "    </tr>\n",
       "    <tr>\n",
       "      <th>3</th>\n",
       "      <td>b</td>\n",
       "      <td>20.17</td>\n",
       "      <td>5.625</td>\n",
       "      <td>u</td>\n",
       "      <td>g</td>\n",
       "      <td>w</td>\n",
       "      <td>v</td>\n",
       "      <td>1.71</td>\n",
       "      <td>t</td>\n",
       "      <td>f</td>\n",
       "      <td>0</td>\n",
       "      <td>f</td>\n",
       "      <td>s</td>\n",
       "      <td>120</td>\n",
       "      <td>0</td>\n",
       "      <td>+</td>\n",
       "    </tr>\n",
       "    <tr>\n",
       "      <th>4</th>\n",
       "      <td>b</td>\n",
       "      <td>32.08</td>\n",
       "      <td>4.000</td>\n",
       "      <td>u</td>\n",
       "      <td>g</td>\n",
       "      <td>m</td>\n",
       "      <td>v</td>\n",
       "      <td>2.50</td>\n",
       "      <td>t</td>\n",
       "      <td>f</td>\n",
       "      <td>0</td>\n",
       "      <td>t</td>\n",
       "      <td>g</td>\n",
       "      <td>360</td>\n",
       "      <td>0</td>\n",
       "      <td>+</td>\n",
       "    </tr>\n",
       "  </tbody>\n",
       "</table>\n",
       "</div>"
      ],
      "text/plain": [
       "   b  30.83      0  u  g  w  v  1.25  t t.1  1  f g.1  202  0.1  +\n",
       "0  a  58.67  4.460  u  g  q  h  3.04  t   t  6  f   g   43  560  +\n",
       "1  a  24.50  0.500  u  g  q  h  1.50  t   f  0  f   g  280  824  +\n",
       "2  b  27.83  1.540  u  g  w  v  3.75  t   t  5  t   g  100    3  +\n",
       "3  b  20.17  5.625  u  g  w  v  1.71  t   f  0  f   s  120    0  +\n",
       "4  b  32.08  4.000  u  g  m  v  2.50  t   f  0  t   g  360    0  +"
      ]
     },
     "execution_count": 3,
     "metadata": {},
     "output_type": "execute_result"
    }
   ],
   "source": [
    "dfCredit.head()\n",
    "#Y.head()"
   ]
  },
  {
   "cell_type": "code",
   "execution_count": 38,
   "metadata": {},
   "outputs": [
    {
     "name": "stdout",
     "output_type": "stream",
     "text": [
      "True\n",
      "arrayX (687, 15)\n",
      "['a' '24.50' 0.5 'u' 'g' 'q' 'h' 1.5 't' 'f' 0 'f' 'g' '280' 824] <class 'str'>\n",
      "numeric_columns [False, True, True, False, False, False, False, True, False, False, True, False, False, True, True]\n",
      "arrayY + +\n",
      "before NaN remove (687, 6)\n",
      "test1 [24.5 0.5 1.5 0 280.0 824]\n",
      "after NaN remove arrayX_num (665, 6) arrayY_num (665,)\n"
     ]
    }
   ],
   "source": [
    "import re\n",
    "\n",
    "def is_num(entry):\n",
    "    _str = str(entry)\n",
    "    #print(\"is_num\", _str)\n",
    "    regex_float = '[+-]?[0-9]+\\.[0-9]+'\n",
    "    regex_int = '[0-9]+'\n",
    "\n",
    "    if(re.search(regex_int, _str)):  \n",
    "        #print(str, \"Integer number\")  \n",
    "        return True\n",
    "    elif(re.search(regex_float, _str)):  \n",
    "        #print(str, \"Floating point number\")  \n",
    "        return True\n",
    "    else:  \n",
    "        #print(_str, \"not a number\")  \n",
    "        return False\n",
    "        \n",
    "print(is_num('013'))\n",
    "\n",
    "# Transformation en array\n",
    "arrayCredit = dfCredit.to_numpy()\n",
    "# Extraction des variables caractéristiques\n",
    "arrayX = (dfCredit.iloc[:,:nbColumns-1]).to_numpy()\n",
    "# Extraction de la varaiable à prédire\n",
    "arrayY = (dfCredit.iloc[:,nbColumns-1]).to_numpy()\n",
    "print(\"arrayX\", arrayX.shape)\n",
    "#print(arrayCredit, arrayX, arrayY)\n",
    "\n",
    "# Sélection des colonnes de type numérique ()\n",
    "row1 = arrayX[1,:]\n",
    "print(row1, type(row1[1]))\n",
    "numeric_columns=[]\n",
    "numeric_columns = [is_num(row1[i]  )  for i in range(len(row1))]\n",
    "\n",
    "    \n",
    "print(\"numeric_columns\", numeric_columns)\n",
    "#selections = np.array([True, False, True])\n",
    "arrayX_num = arrayX[:, numeric_columns]\n",
    "\n",
    "\n",
    "arrayY_num = np.zeros(len(arrayY));\n",
    "# Conversion de tous les éléments du tableau en float\n",
    "print(\"arrayY\", arrayY[0],arrayY[1] )\n",
    "lengthY = len(arrayY)\n",
    "for idx in range(lengthY):\n",
    "    #print(\"step1\",idx,arrayY[idx])\n",
    "    if(arrayY[idx] == '+'):\n",
    "        #print('set 1')\n",
    "        arrayY_num[idx] = 1\n",
    "#print(\"y value\",idx_row, arrayY[idx_row])\n",
    "#print(\"arrayY_num\", arrayY_num)\n",
    "\n",
    "\n",
    "\n",
    "idx_col = 0\n",
    "for row in arrayX_num:    \n",
    "    idx_row = 0\n",
    "    for item in row:\n",
    "        if(isinstance(item, str)):\n",
    "            if(\"?\"==item):\n",
    "                item = float('nan')\n",
    "            arrayX_num[idx_col][idx_row] = float(item)\n",
    "        idx_row+=1\n",
    "        #print(item) \n",
    "    idx_col+=1\n",
    "   \n",
    "\n",
    "\n",
    "def has_nan(row):\n",
    "    array_sum = np.sum(row)\n",
    "    return np.isnan(array_sum)\n",
    "    \n",
    "# Suppression des lignes comporanant un nan\n",
    "print( \"before NaN remove arrayX_num\", arrayX_num.shape, \"arrayY_num\", arrayY_num.shape) \n",
    "\n",
    "selected_rows = []\n",
    "arrayX_clean = []\n",
    "print(\"test1\", arrayX_num[1,:])\n",
    "fNaN = float('nan')\n",
    "for row in arrayX_num:\n",
    "    if has_nan(row):\n",
    "        #print(\"nan found in \", row)\n",
    "        selected_rows.append(False)\n",
    "    else:\n",
    "        selected_rows.append(True)\n",
    "        #arrayX_clean.append(row)\n",
    "\n",
    "arrayX_num = arrayX_num[selected_rows,:]\n",
    "arrayY_num = arrayY_num[selected_rows]\n",
    "\n",
    "print(\"after NaN remove arrayX_num\",arrayX_num.shape, \"arrayY_num\", arrayY_num.shape) \n"
   ]
  },
  {
   "cell_type": "code",
   "execution_count": 5,
   "metadata": {},
   "outputs": [],
   "source": [
    "MP = 100*np.sum(Y == 0)/len(Y)\n",
    "BP = 100*np.sum(Y == 1)/len(Y)"
   ]
  },
  {
   "cell_type": "markdown",
   "metadata": {},
   "source": [
    "# Apprentissage"
   ]
  },
  {
   "cell_type": "code",
   "execution_count": 6,
   "metadata": {},
   "outputs": [],
   "source": [
    "from sklearn.model_selection import train_test_split\n",
    "from sklearn.preprocessing import Normalizer\n",
    "from sklearn.tree import DecisionTreeClassifier\n",
    "from sklearn.metrics import plot_confusion_matrix\n",
    "from sklearn.metrics import confusion_matrix, precision_score, accuracy_score\n",
    "from sklearn.neighbors import KNeighborsClassifier\n",
    "from sklearn.neural_network import MLPClassifier"
   ]
  },
  {
   "cell_type": "code",
   "execution_count": 7,
   "metadata": {},
   "outputs": [
    {
     "name": "stdout",
     "output_type": "stream",
     "text": [
      "train (343, 15) (343,) test (344, 15) (344,)\n"
     ]
    }
   ],
   "source": [
    "#X_train, X_test, y_train, y_test = train_test_split(X, Y, test_size=0.5, random_state=1)\n",
    "#print('train', X_train.shape, y_train.shape, 'test', X_test.shape, y_test.shape)\n"
   ]
  },
  {
   "cell_type": "code",
   "execution_count": 8,
   "metadata": {},
   "outputs": [],
   "source": [
    "\n",
    "\"\"\" \n",
    "    Fontion utilitaire d'affichage des résultat d'un algorithme : matrice de confusion, accuracy, precision\n",
    "\"\"\"\n",
    "def log_result(Y_test, Y_pred, algoType, note):\n",
    "    print(\"--- \", algoType, \" ---\" )\n",
    "    m_confusion = confusion_matrix(Y_test, Y_pred )\n",
    "    print(\"Matrice de confusion\", algoType, note)\n",
    "    print(m_confusion)\n",
    "    acc = round(100*accuracy_score(Y_test, Y_pred), 2)\n",
    "    prec = round(100*precision_score(Y_test, Y_pred), 2)\n",
    "    print(algoType, note, ' : Accuracy  ', acc , 'Precision' , prec)"
   ]
  },
  {
   "cell_type": "code",
   "execution_count": 9,
   "metadata": {},
   "outputs": [],
   "source": [
    "\"\"\" Fonction qui applique successivement les 3 algorithmes : \n",
    "        . Arbre de décision\n",
    "        . K plus proches voisins\n",
    "        . Perceptron multi-couches\n",
    "\"\"\"\n",
    "def apply_classifier(X_train, _train, X_test, Y_test, note):\n",
    "    # Arbre de décision\n",
    "    DT = DecisionTreeClassifier(criterion = 'gini', random_state=1)\n",
    "    DT.fit(X_train, y_train)\n",
    "    Y_pred = DT.predict(X_test)\n",
    "    log_result(Y_test, Y_pred, 'arbre de décision', note)\n",
    "    \n",
    "    # K plus prohces voisins\n",
    "    KNN = KNeighborsClassifier(n_neighbors=5)\n",
    "    KNN.fit(X_train, y_train)\n",
    "    Y_pred = KNN.predict(X_test)\n",
    "    log_result(Y_test, Y_pred, 'K plus proches voisins', note)\n",
    "\n",
    "    #MultilayerPerceptron à deux couches de tailles respectives 40 et 20 et random_state=1\n",
    "    MLP = MLPClassifier( alpha=1e-5, hidden_layer_sizes=(40, 20), random_state=1)\n",
    "    MLP.fit(X_train, y_train)\n",
    "    Y_pred = MLP.predict(X_test)\n",
    "    log_result(Y_test, Y_pred, 'Perceptron multi couches', note)\n",
    "    "
   ]
  },
  {
   "cell_type": "markdown",
   "metadata": {},
   "source": [
    "# bababa"
   ]
  },
  {
   "cell_type": "code",
   "execution_count": null,
   "metadata": {},
   "outputs": [],
   "source": []
  },
  {
   "cell_type": "code",
   "execution_count": null,
   "metadata": {},
   "outputs": [],
   "source": []
  },
  {
   "cell_type": "markdown",
   "metadata": {},
   "source": [
    "# bababa2"
   ]
  },
  {
   "cell_type": "code",
   "execution_count": null,
   "metadata": {},
   "outputs": [],
   "source": []
  },
  {
   "cell_type": "code",
   "execution_count": null,
   "metadata": {},
   "outputs": [],
   "source": []
  },
  {
   "cell_type": "code",
   "execution_count": null,
   "metadata": {},
   "outputs": [],
   "source": []
  },
  {
   "cell_type": "code",
   "execution_count": null,
   "metadata": {},
   "outputs": [],
   "source": []
  },
  {
   "cell_type": "code",
   "execution_count": null,
   "metadata": {},
   "outputs": [],
   "source": []
  },
  {
   "cell_type": "code",
   "execution_count": null,
   "metadata": {},
   "outputs": [],
   "source": []
  },
  {
   "cell_type": "code",
   "execution_count": null,
   "metadata": {},
   "outputs": [],
   "source": []
  },
  {
   "cell_type": "code",
   "execution_count": null,
   "metadata": {},
   "outputs": [],
   "source": []
  },
  {
   "cell_type": "code",
   "execution_count": null,
   "metadata": {},
   "outputs": [],
   "source": [
    "\n",
    "\n",
    "    \n",
    "   "
   ]
  },
  {
   "cell_type": "code",
   "execution_count": null,
   "metadata": {},
   "outputs": [],
   "source": []
  }
 ],
 "metadata": {
  "kernelspec": {
   "display_name": "Python 3",
   "language": "python",
   "name": "python3"
  },
  "language_info": {
   "codemirror_mode": {
    "name": "ipython",
    "version": 3
   },
   "file_extension": ".py",
   "mimetype": "text/x-python",
   "name": "python",
   "nbconvert_exporter": "python",
   "pygments_lexer": "ipython3",
   "version": "3.8.5"
  }
 },
 "nbformat": 4,
 "nbformat_minor": 4
}
