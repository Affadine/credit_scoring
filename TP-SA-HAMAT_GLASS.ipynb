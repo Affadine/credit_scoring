{
 "cells": [
  {
   "cell_type": "code",
   "execution_count": 1,
   "metadata": {},
   "outputs": [],
   "source": [
    "import numpy as np\n",
    "np.set_printoptions(threshold=10000,suppress=True)\n",
    "import pandas as pd\n",
    "import warnings\n",
    "import matplotlib.pyplot as plt\n",
    "\n",
    "warnings.filterwarnings('ignore')"
   ]
  },
  {
   "cell_type": "code",
   "execution_count": 2,
   "metadata": {},
   "outputs": [],
   "source": [
    "credit = pd.read_csv('credit_scoring.csv', sep=';')"
   ]
  },
  {
   "cell_type": "code",
   "execution_count": 3,
   "metadata": {},
   "outputs": [
    {
     "data": {
      "text/html": [
       "<div>\n",
       "<style scoped>\n",
       "    .dataframe tbody tr th:only-of-type {\n",
       "        vertical-align: middle;\n",
       "    }\n",
       "\n",
       "    .dataframe tbody tr th {\n",
       "        vertical-align: top;\n",
       "    }\n",
       "\n",
       "    .dataframe thead th {\n",
       "        text-align: right;\n",
       "    }\n",
       "</style>\n",
       "<table border=\"1\" class=\"dataframe\">\n",
       "  <thead>\n",
       "    <tr style=\"text-align: right;\">\n",
       "      <th></th>\n",
       "      <th>Seniority</th>\n",
       "      <th>Home</th>\n",
       "      <th>Time</th>\n",
       "      <th>Age</th>\n",
       "      <th>Marital</th>\n",
       "      <th>Records</th>\n",
       "      <th>Job</th>\n",
       "      <th>Expenses</th>\n",
       "      <th>Income</th>\n",
       "      <th>Assets</th>\n",
       "      <th>Debt</th>\n",
       "      <th>Amount</th>\n",
       "      <th>Price</th>\n",
       "      <th>Status</th>\n",
       "    </tr>\n",
       "  </thead>\n",
       "  <tbody>\n",
       "    <tr>\n",
       "      <th>0</th>\n",
       "      <td>9.0</td>\n",
       "      <td>1.0</td>\n",
       "      <td>60.0</td>\n",
       "      <td>30.0</td>\n",
       "      <td>0.0</td>\n",
       "      <td>1.0</td>\n",
       "      <td>1.0</td>\n",
       "      <td>73.0</td>\n",
       "      <td>129.0</td>\n",
       "      <td>0.0</td>\n",
       "      <td>0.0</td>\n",
       "      <td>800.0</td>\n",
       "      <td>846.0</td>\n",
       "      <td>1</td>\n",
       "    </tr>\n",
       "    <tr>\n",
       "      <th>1</th>\n",
       "      <td>17.0</td>\n",
       "      <td>1.0</td>\n",
       "      <td>60.0</td>\n",
       "      <td>58.0</td>\n",
       "      <td>1.0</td>\n",
       "      <td>1.0</td>\n",
       "      <td>0.0</td>\n",
       "      <td>48.0</td>\n",
       "      <td>131.0</td>\n",
       "      <td>0.0</td>\n",
       "      <td>0.0</td>\n",
       "      <td>1000.0</td>\n",
       "      <td>1658.0</td>\n",
       "      <td>1</td>\n",
       "    </tr>\n",
       "    <tr>\n",
       "      <th>2</th>\n",
       "      <td>10.0</td>\n",
       "      <td>0.0</td>\n",
       "      <td>36.0</td>\n",
       "      <td>46.0</td>\n",
       "      <td>0.0</td>\n",
       "      <td>2.0</td>\n",
       "      <td>1.0</td>\n",
       "      <td>90.0</td>\n",
       "      <td>200.0</td>\n",
       "      <td>3000.0</td>\n",
       "      <td>0.0</td>\n",
       "      <td>2000.0</td>\n",
       "      <td>2985.0</td>\n",
       "      <td>0</td>\n",
       "    </tr>\n",
       "    <tr>\n",
       "      <th>3</th>\n",
       "      <td>0.0</td>\n",
       "      <td>1.0</td>\n",
       "      <td>60.0</td>\n",
       "      <td>24.0</td>\n",
       "      <td>1.0</td>\n",
       "      <td>1.0</td>\n",
       "      <td>0.0</td>\n",
       "      <td>63.0</td>\n",
       "      <td>182.0</td>\n",
       "      <td>2500.0</td>\n",
       "      <td>0.0</td>\n",
       "      <td>900.0</td>\n",
       "      <td>1325.0</td>\n",
       "      <td>1</td>\n",
       "    </tr>\n",
       "    <tr>\n",
       "      <th>4</th>\n",
       "      <td>0.0</td>\n",
       "      <td>1.0</td>\n",
       "      <td>36.0</td>\n",
       "      <td>26.0</td>\n",
       "      <td>1.0</td>\n",
       "      <td>1.0</td>\n",
       "      <td>0.0</td>\n",
       "      <td>46.0</td>\n",
       "      <td>107.0</td>\n",
       "      <td>0.0</td>\n",
       "      <td>0.0</td>\n",
       "      <td>310.0</td>\n",
       "      <td>910.0</td>\n",
       "      <td>1</td>\n",
       "    </tr>\n",
       "  </tbody>\n",
       "</table>\n",
       "</div>"
      ],
      "text/plain": [
       "   Seniority  Home  Time   Age  Marital  Records  Job  Expenses  Income  \\\n",
       "0        9.0   1.0  60.0  30.0      0.0      1.0  1.0      73.0   129.0   \n",
       "1       17.0   1.0  60.0  58.0      1.0      1.0  0.0      48.0   131.0   \n",
       "2       10.0   0.0  36.0  46.0      0.0      2.0  1.0      90.0   200.0   \n",
       "3        0.0   1.0  60.0  24.0      1.0      1.0  0.0      63.0   182.0   \n",
       "4        0.0   1.0  36.0  26.0      1.0      1.0  0.0      46.0   107.0   \n",
       "\n",
       "   Assets  Debt  Amount   Price  Status  \n",
       "0     0.0   0.0   800.0   846.0       1  \n",
       "1     0.0   0.0  1000.0  1658.0       1  \n",
       "2  3000.0   0.0  2000.0  2985.0       0  \n",
       "3  2500.0   0.0   900.0  1325.0       1  \n",
       "4     0.0   0.0   310.0   910.0       1  "
      ]
     },
     "execution_count": 3,
     "metadata": {},
     "output_type": "execute_result"
    }
   ],
   "source": [
    "credit.head()"
   ]
  },
  {
   "cell_type": "code",
   "execution_count": 4,
   "metadata": {},
   "outputs": [],
   "source": [
    "X = credit.iloc[:,:13]\n",
    "Y = credit.iloc[:,13]"
   ]
  },
  {
   "cell_type": "code",
   "execution_count": 5,
   "metadata": {},
   "outputs": [],
   "source": [
    "MP = 100*np.sum(Y == 0)/len(Y)\n",
    "BP = 100*np.sum(Y == 1)/len(Y)"
   ]
  },
  {
   "cell_type": "markdown",
   "metadata": {},
   "source": [
    "# Apprentissage"
   ]
  },
  {
   "cell_type": "code",
   "execution_count": 6,
   "metadata": {},
   "outputs": [],
   "source": [
    "from sklearn.model_selection import train_test_split\n",
    "from sklearn.preprocessing import Normalizer\n",
    "from sklearn.tree import DecisionTreeClassifier\n",
    "from sklearn.metrics import plot_confusion_matrix\n",
    "from sklearn.metrics import confusion_matrix, precision_score, accuracy_score\n",
    "from sklearn.neighbors import KNeighborsClassifier\n",
    "from sklearn.neural_network import MLPClassifier"
   ]
  },
  {
   "cell_type": "code",
   "execution_count": 7,
   "metadata": {},
   "outputs": [
    {
     "name": "stdout",
     "output_type": "stream",
     "text": [
      "train (2187, 13) (2187,) test (2188, 13) (2188,)\n"
     ]
    }
   ],
   "source": [
    "X_train, X_test, y_train, y_test = train_test_split(X, Y, test_size=0.5, random_state=1)\n",
    "print('train', X_train.shape, y_train.shape, 'test', X_test.shape, y_test.shape)\n"
   ]
  },
  {
   "cell_type": "code",
   "execution_count": 8,
   "metadata": {},
   "outputs": [],
   "source": [
    "def log_result(Y_test, Y_pred, algoType, note):\n",
    "    print(\"--- \", algoType, \" ---\" )\n",
    "    m_confusion = confusion_matrix(Y_test, Y_pred )\n",
    "    print(\"Matrice de confusion\", algoType, note)\n",
    "    print(m_confusion)\n",
    "    acc = round(100*accuracy_score(Y_test, Y_pred), 2)\n",
    "    prec = round(100*precision_score(Y_test, Y_pred), 2)\n",
    "    print(algoType, note, ' : Accuracy  ', acc , 'Precision' , prec)"
   ]
  },
  {
   "cell_type": "code",
   "execution_count": 9,
   "metadata": {},
   "outputs": [],
   "source": [
    "# Fonction qui applique les 3 alos différents  \n",
    "\n",
    "def apply_classifier(X_train, _train, X_test, Y_test, note):\n",
    "\n",
    "    # Arbre de décision\n",
    "    DT = DecisionTreeClassifier(criterion = 'gini', random_state=1)\n",
    "    DT.fit(X_train, y_train)\n",
    "    Y_pred = DT.predict(X_test)\n",
    "    log_result(Y_test, Y_pred, 'arbre de décision', note)\n",
    "    \n",
    "    # K plus prohces voisins\n",
    "    KNN = KNeighborsClassifier(n_neighbors=5)\n",
    "    KNN.fit(X_train, y_train)\n",
    "    Y_pred = KNN.predict(X_test)\n",
    "    log_result(Y_test, Y_pred, 'K plus proches voisins', note)\n",
    "\n",
    "    #MultilayerPerceptron à deux couches de tailles respectives 40 et 20 et random_state=1\n",
    "    MLP = MLPClassifier( alpha=1e-5, hidden_layer_sizes=(40, 20), random_state=1)\n",
    "    MLP.fit(X_train, y_train)\n",
    "    Y_pred = MLP.predict(X_test)\n",
    "    log_result(Y_test, Y_pred, 'Perceptron multi couches', note)\n",
    "    "
   ]
  },
  {
   "cell_type": "markdown",
   "metadata": {},
   "source": [
    "# Normalisation"
   ]
  },
  {
   "cell_type": "code",
   "execution_count": 10,
   "metadata": {},
   "outputs": [],
   "source": [
    "from sklearn.preprocessing import StandardScaler"
   ]
  },
  {
   "cell_type": "code",
   "execution_count": 11,
   "metadata": {},
   "outputs": [
    {
     "name": "stdout",
     "output_type": "stream",
     "text": [
      "---  arbre de décision  ---\n",
      "Matrice de confusion arbre de décision avec normalisation\n",
      "[[ 322  282]\n",
      " [ 315 1269]]\n",
      "arbre de décision avec normalisation  : Accuracy   72.71 Precision 81.82\n",
      "---  K plus proches voisins  ---\n",
      "Matrice de confusion K plus proches voisins avec normalisation\n",
      "[[ 286  318]\n",
      " [ 223 1361]]\n",
      "K plus proches voisins avec normalisation  : Accuracy   75.27 Precision 81.06\n",
      "---  Perceptron multi couches  ---\n",
      "Matrice de confusion Perceptron multi couches avec normalisation\n",
      "[[ 345  259]\n",
      " [ 222 1362]]\n",
      "Perceptron multi couches avec normalisation  : Accuracy   78.02 Precision 84.02\n"
     ]
    }
   ],
   "source": [
    "SC = StandardScaler()\n",
    "SC.fit(X_train)\n",
    "X_train_norm = SC.transform(X_train)\n",
    "X_test_norm = SC.transform(X_test)\n",
    "\n",
    "apply_classifier(X_train_norm, y_train, X_test_norm, y_test, 'avec normalisation')\n"
   ]
  },
  {
   "cell_type": "markdown",
   "metadata": {},
   "source": [
    "# Création de nouvelles variables caractéristiques"
   ]
  },
  {
   "cell_type": "code",
   "execution_count": 13,
   "metadata": {},
   "outputs": [],
   "source": [
    "from sklearn.decomposition import PCA"
   ]
  },
  {
   "cell_type": "code",
   "execution_count": 14,
   "metadata": {},
   "outputs": [
    {
     "name": "stdout",
     "output_type": "stream",
     "text": [
      "---  arbre de décision  ---\n",
      "Matrice de confusion arbre de décision avec ACP\n",
      "[[ 351  253]\n",
      " [ 324 1260]]\n",
      "arbre de décision avec ACP  : Accuracy   73.63 Precision 83.28\n",
      "---  K plus proches voisins  ---\n",
      "Matrice de confusion K plus proches voisins avec ACP\n",
      "[[ 283  321]\n",
      " [ 212 1372]]\n",
      "K plus proches voisins avec ACP  : Accuracy   75.64 Precision 81.04\n",
      "---  Perceptron multi couches  ---\n",
      "Matrice de confusion Perceptron multi couches avec ACP\n",
      "[[ 323  281]\n",
      " [ 211 1373]]\n",
      "Perceptron multi couches avec ACP  : Accuracy   77.51 Precision 83.01\n"
     ]
    }
   ],
   "source": [
    "# avec normalisation et ACP\n",
    "\n",
    "pca=PCA(n_components =3)\n",
    "pca.fit(X_train_norm)\n",
    "X_train_pca = pca.transform(X_train_norm)\n",
    "X_train_pca = np.concatenate((X_train_norm, X_train_pca), axis=1)\n",
    "\n",
    "X_test_pca = pca.transform(X_test_norm)\n",
    "X_test_pca = np.concatenate((X_test_norm, X_test_pca), axis=1)\n",
    "\n",
    "# dans evplutionPLot, ajouter le param sorded_idx\n",
    "apply_classifier(X_train_pca, y_train, X_test_pca, y_test, 'avec ACP')\n"
   ]
  },
  {
   "cell_type": "code",
   "execution_count": 22,
   "metadata": {},
   "outputs": [
    {
     "name": "stdout",
     "output_type": "stream",
     "text": [
      "features [  9.   1.  60.  30.   0.   1.   1.  73. 129.   0.   0. 800. 846.   1.]\n",
      "[129.   9. 846. 800.  30.   0.  73.   1.  60.   1.   0.   1.   0.]\n"
     ]
    },
    {
     "data": {
      "image/png": "[encoded data removed]",
      "text/plain": [
       "<Figure size 432x288 with 1 Axes>"
      ]
     },
     "metadata": {
      "needs_background": "light"
     },
     "output_type": "display_data"
    }
   ],
   "source": [
    "#Ainsi, il faut afficher un histogramme des importances des variables. \n",
    "from sklearn.ensemble import RandomForestClassifier\n",
    "\n",
    "features = credit.iloc[0,:].values\n",
    "print(\"features\", features)\n",
    "clf = RandomForestClassifier(n_estimators=100)\n",
    "clf.fit(X_train_norm, y_train)\n",
    "importances=clf.feature_importances_\n",
    "std = np.std([tree.feature_importances_ for tree in clf.estimators_],axis=0)\n",
    "sorted_idx = np.argsort(importances)[::-1]\n",
    "print(features[sorted_idx])\n",
    "padding = np.arange(X_train_norm.size/len(X_train_norm)) + 0.5\n",
    "plt.barh(padding, importances[sorted_idx],xerr=std[sorted_idx], align='center')\n",
    "plt.yticks(padding, features[sorted_idx])\n",
    "plt.xlabel(\"Relative Importance\")\n",
    "plt.title(\"Variable Importance\")\n",
    "plt.show()"
   ]
  },
  {
   "cell_type": "code",
   "execution_count": 23,
   "metadata": {},
   "outputs": [
    {
     "data": {
      "image/png": "[encoded data removed]",
      "text/plain": [
       "<Figure size 432x288 with 1 Axes>"
      ]
     },
     "metadata": {
      "needs_background": "light"
     },
     "output_type": "display_data"
    }
   ],
   "source": [
    "# Déterminer ensuite le nombre de variables à garder en exécutant le code suivant\n",
    "KNN=KNeighborsClassifier(n_neighbors=5)\n",
    "scores=np.zeros(X_train_norm.shape[1]+1)\n",
    "for f in np.arange(0, X_train_norm.shape[1]+1):\n",
    "    X1_f = X_train_norm[:,sorted_idx[:f+1]]\n",
    "    X2_f = X_test_norm[:,sorted_idx[:f+1]]\n",
    "    KNN.fit(X1_f,y_train)\n",
    "    y_pred = KNN.predict(X2_f)\n",
    "    scores[f]=np.round(accuracy_score(y_test,y_pred),3)\n",
    "plt.plot(scores)\n",
    "plt.xlabel(\"Nombre de Variables\")\n",
    "plt.ylabel(\"Accuracy\")\n",
    "plt.title(\"Evolution de l'accuracy en fonction des variables\")\n",
    "plt.show()"
   ]
  },
  {
   "cell_type": "code",
   "execution_count": null,
   "metadata": {},
   "outputs": [],
   "source": []
  }
 ],
 "metadata": {
  "kernelspec": {
   "display_name": "Python 3",
   "language": "python",
   "name": "python3"
  },
  "language_info": {
   "codemirror_mode": {
    "name": "ipython",
    "version": 3
   },
   "file_extension": ".py",
   "mimetype": "text/x-python",
   "name": "python",
   "nbconvert_exporter": "python",
   "pygments_lexer": "ipython3",
   "version": "3.8.5"
  }
 },
 "nbformat": 4,
 "nbformat_minor": 4
}
