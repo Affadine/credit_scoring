{
 "cells": [
  {
   "cell_type": "code",
   "execution_count": 1,
   "metadata": {},
   "outputs": [],
   "source": [
    "import numpy as np\n",
    "np.set_printoptions(threshold=10000,suppress=True)\n",
    "import pandas as pd\n",
    "import warnings\n",
    "import matplotlib.pyplot as plt\n",
    "\n",
    "warnings.filterwarnings('ignore')"
   ]
  },
  {
   "cell_type": "code",
   "execution_count": 2,
   "metadata": {},
   "outputs": [],
   "source": [
<<<<<<< HEAD
    "credit = pd.read_csv('credit_scoring.csv', sep=';')"
=======
    "def charger_data(data_path):\n",
    "    data = pd.read_csv(data_path, sep=';')\n",
    "    X = np.array(data.loc[ : , data.columns != 'Status'])\n",
    "    Y = np.array(data['Status'])\n",
    "    return X,Y,data.columns"
>>>>>>> b2af8e2bef636beafc615677da436cacc68cfbb6
   ]
  },
  {
   "cell_type": "code",
   "execution_count": 3,
   "metadata": {},
<<<<<<< HEAD
=======
   "outputs": [],
   "source": [
    "data_path = 'credit_scoring.csv'\n",
    "X,Y,columns =  charger_data(data_path)"
   ]
  },
  {
   "cell_type": "code",
   "execution_count": 4,
   "metadata": {},
   "outputs": [
    {
     "data": {
      "text/plain": [
       "(4375, 13)"
      ]
     },
     "execution_count": 4,
     "metadata": {},
     "output_type": "execute_result"
    }
   ],
   "source": [
    "X.shape"
   ]
  },
  {
   "cell_type": "code",
   "execution_count": 5,
   "metadata": {},
   "outputs": [
    {
     "data": {
      "text/plain": [
       "(4375,)"
      ]
     },
     "execution_count": 5,
     "metadata": {},
     "output_type": "execute_result"
    }
   ],
   "source": [
    "Y.shape"
   ]
  },
  {
   "cell_type": "code",
   "execution_count": 6,
   "metadata": {},
   "outputs": [],
   "source": [
    "from sklearn.model_selection import train_test_split\n",
    "from sklearn.preprocessing import Normalizer"
   ]
  },
  {
   "cell_type": "code",
   "execution_count": 7,
   "metadata": {},
   "outputs": [],
   "source": [
    "#Découper les données en 2, pour l'entrainnement, la validation et le test\n",
    "def decouper_train_test(data_path, test_size=0.5, normalize=0):\n",
    "    # charger les données\n",
    "    X, y, columns = charger_data(data_path)\n",
    "    \n",
    "    if(normalize):\n",
    "        transformer = Normalizer().fit(X)  # fit does nothing.\n",
    "        transformer.transform(X)\n",
    "\n",
    "    #decoupage en 2 pour l'entrainnement, la validation et le test\n",
    "    X_train, X_test, y_train, y_test = train_test_split(X, y, test_size=0.5, random_state=1)\n",
    "    \n",
    "    return X_train, y_train, X_test, y_test"
   ]
  },
  {
   "cell_type": "code",
   "execution_count": 8,
   "metadata": {},
   "outputs": [
    {
     "name": "stdout",
     "output_type": "stream",
     "text": [
      "train (2187, 13) (2187,) test (2188, 13) (2188,)\n"
     ]
    }
   ],
   "source": [
    "X_train, y_train, X_test, y_test = decouper_train_test(data_path)\n",
    "print('train', X_train.shape, y_train.shape, 'test', X_test.shape, y_test.shape)\n"
   ]
  },
  {
   "cell_type": "code",
   "execution_count": 9,
   "metadata": {},
   "outputs": [],
   "source": [
    "from sklearn.tree import DecisionTreeClassifier"
   ]
  },
  {
   "cell_type": "code",
   "execution_count": 10,
   "metadata": {},
>>>>>>> b2af8e2bef636beafc615677da436cacc68cfbb6
   "outputs": [
    {
     "data": {
      "text/html": [
       "<div>\n",
       "<style scoped>\n",
       "    .dataframe tbody tr th:only-of-type {\n",
       "        vertical-align: middle;\n",
       "    }\n",
       "\n",
       "    .dataframe tbody tr th {\n",
       "        vertical-align: top;\n",
       "    }\n",
       "\n",
       "    .dataframe thead th {\n",
       "        text-align: right;\n",
       "    }\n",
       "</style>\n",
       "<table border=\"1\" class=\"dataframe\">\n",
       "  <thead>\n",
       "    <tr style=\"text-align: right;\">\n",
       "      <th></th>\n",
       "      <th>Seniority</th>\n",
       "      <th>Home</th>\n",
       "      <th>Time</th>\n",
       "      <th>Age</th>\n",
       "      <th>Marital</th>\n",
       "      <th>Records</th>\n",
       "      <th>Job</th>\n",
       "      <th>Expenses</th>\n",
       "      <th>Income</th>\n",
       "      <th>Assets</th>\n",
       "      <th>Debt</th>\n",
       "      <th>Amount</th>\n",
       "      <th>Price</th>\n",
       "      <th>Status</th>\n",
       "    </tr>\n",
       "  </thead>\n",
       "  <tbody>\n",
       "    <tr>\n",
       "      <th>0</th>\n",
       "      <td>9.0</td>\n",
       "      <td>1.0</td>\n",
       "      <td>60.0</td>\n",
       "      <td>30.0</td>\n",
       "      <td>0.0</td>\n",
       "      <td>1.0</td>\n",
       "      <td>1.0</td>\n",
       "      <td>73.0</td>\n",
       "      <td>129.0</td>\n",
       "      <td>0.0</td>\n",
       "      <td>0.0</td>\n",
       "      <td>800.0</td>\n",
       "      <td>846.0</td>\n",
       "      <td>1</td>\n",
       "    </tr>\n",
       "    <tr>\n",
       "      <th>1</th>\n",
       "      <td>17.0</td>\n",
       "      <td>1.0</td>\n",
       "      <td>60.0</td>\n",
       "      <td>58.0</td>\n",
       "      <td>1.0</td>\n",
       "      <td>1.0</td>\n",
       "      <td>0.0</td>\n",
       "      <td>48.0</td>\n",
       "      <td>131.0</td>\n",
       "      <td>0.0</td>\n",
       "      <td>0.0</td>\n",
       "      <td>1000.0</td>\n",
       "      <td>1658.0</td>\n",
       "      <td>1</td>\n",
       "    </tr>\n",
       "    <tr>\n",
       "      <th>2</th>\n",
       "      <td>10.0</td>\n",
       "      <td>0.0</td>\n",
       "      <td>36.0</td>\n",
       "      <td>46.0</td>\n",
       "      <td>0.0</td>\n",
       "      <td>2.0</td>\n",
       "      <td>1.0</td>\n",
       "      <td>90.0</td>\n",
       "      <td>200.0</td>\n",
       "      <td>3000.0</td>\n",
       "      <td>0.0</td>\n",
       "      <td>2000.0</td>\n",
       "      <td>2985.0</td>\n",
       "      <td>0</td>\n",
       "    </tr>\n",
       "    <tr>\n",
       "      <th>3</th>\n",
       "      <td>0.0</td>\n",
       "      <td>1.0</td>\n",
       "      <td>60.0</td>\n",
       "      <td>24.0</td>\n",
       "      <td>1.0</td>\n",
       "      <td>1.0</td>\n",
       "      <td>0.0</td>\n",
       "      <td>63.0</td>\n",
       "      <td>182.0</td>\n",
       "      <td>2500.0</td>\n",
       "      <td>0.0</td>\n",
       "      <td>900.0</td>\n",
       "      <td>1325.0</td>\n",
       "      <td>1</td>\n",
       "    </tr>\n",
       "    <tr>\n",
       "      <th>4</th>\n",
       "      <td>0.0</td>\n",
       "      <td>1.0</td>\n",
       "      <td>36.0</td>\n",
       "      <td>26.0</td>\n",
       "      <td>1.0</td>\n",
       "      <td>1.0</td>\n",
       "      <td>0.0</td>\n",
       "      <td>46.0</td>\n",
       "      <td>107.0</td>\n",
       "      <td>0.0</td>\n",
       "      <td>0.0</td>\n",
       "      <td>310.0</td>\n",
       "      <td>910.0</td>\n",
       "      <td>1</td>\n",
       "    </tr>\n",
       "  </tbody>\n",
       "</table>\n",
       "</div>"
      ],
      "text/plain": [
       "   Seniority  Home  Time   Age  Marital  Records  Job  Expenses  Income  \\\n",
       "0        9.0   1.0  60.0  30.0      0.0      1.0  1.0      73.0   129.0   \n",
       "1       17.0   1.0  60.0  58.0      1.0      1.0  0.0      48.0   131.0   \n",
       "2       10.0   0.0  36.0  46.0      0.0      2.0  1.0      90.0   200.0   \n",
       "3        0.0   1.0  60.0  24.0      1.0      1.0  0.0      63.0   182.0   \n",
       "4        0.0   1.0  36.0  26.0      1.0      1.0  0.0      46.0   107.0   \n",
       "\n",
       "   Assets  Debt  Amount   Price  Status  \n",
       "0     0.0   0.0   800.0   846.0       1  \n",
       "1     0.0   0.0  1000.0  1658.0       1  \n",
       "2  3000.0   0.0  2000.0  2985.0       0  \n",
       "3  2500.0   0.0   900.0  1325.0       1  \n",
       "4     0.0   0.0   310.0   910.0       1  "
      ]
     },
     "execution_count": 3,
     "metadata": {},
     "output_type": "execute_result"
    }
   ],
   "source": [
    "credit.head()"
   ]
  },
  {
   "cell_type": "code",
   "execution_count": 4,
   "metadata": {},
   "outputs": [],
   "source": [
    "X = credit.iloc[:,:13]\n",
    "Y = credit.iloc[:,13]"
   ]
  },
  {
   "cell_type": "code",
   "execution_count": 5,
   "metadata": {},
   "outputs": [],
   "source": [
    "MP = 100*np.sum(Y == 0)/len(Y)\n",
    "BP = 100*np.sum(Y == 1)/len(Y)"
   ]
  },
  {
   "cell_type": "markdown",
   "metadata": {},
   "source": [
    "# Apprentissage"
   ]
  },
  {
   "cell_type": "code",
   "execution_count": 6,
   "metadata": {},
   "outputs": [],
   "source": [
    "from sklearn.model_selection import train_test_split\n",
    "from sklearn.preprocessing import Normalizer\n",
    "from sklearn.tree import DecisionTreeClassifier\n",
    "from sklearn.metrics import plot_confusion_matrix\n",
    "from sklearn.metrics import confusion_matrix, precision_score, accuracy_score\n",
    "from sklearn.neighbors import KNeighborsClassifier\n",
    "from sklearn.neural_network import MLPClassifier"
   ]
  },
  {
   "cell_type": "code",
   "execution_count": 7,
   "metadata": {},
   "outputs": [
    {
     "name": "stdout",
     "output_type": "stream",
     "text": [
      "train (2187, 13) (2187,) test (2188, 13) (2188,)\n"
     ]
    }
   ],
   "source": [
    "X_train, X_test, y_train, y_test = train_test_split(X, Y, test_size=0.5, random_state=1)\n",
    "print('train', X_train.shape, y_train.shape, 'test', X_test.shape, y_test.shape)\n"
   ]
  },
  {
   "cell_type": "code",
   "execution_count": 8,
   "metadata": {},
   "outputs": [],
   "source": [
<<<<<<< HEAD
=======
    "   \n",
    "    \n",
    "\n",
    "from sklearn.metrics import plot_confusion_matrix\n",
    "from sklearn.metrics import confusion_matrix, precision_score, accuracy_score\n",
    "from sklearn.neighbors import KNeighborsClassifier\n",
    "\n",
    "#Découper les données en 2, pour l'entrainnement, la validation et le test\n",
    "def prepare_data(data_path, test_size=0.5):\n",
    "    # charger les données\n",
    "    X, y, columns = charger_data(data_path)\n",
    "\n",
    "    #decoupage en 2 pour l'entrainnement, la validation et le test\n",
    "    X_train, X_test, y_train, y_test = train_test_split(X, y, test_size=0.5, random_state=1)\n",
    "    \n",
    "    return X_train, y_train, X_test, y_test, columns\n",
    "\n",
>>>>>>> b2af8e2bef636beafc615677da436cacc68cfbb6
    "def log_result(Y_test, Y_pred, algoType, note):\n",
    "    print(\"--- \", algoType, \" ---\" )\n",
    "    m_confusion = confusion_matrix(Y_test, Y_pred )\n",
    "    print(\"Matrice de confusion\", algoType, note)\n",
    "    print(m_confusion)\n",
    "    acc = round(100*accuracy_score(Y_test, Y_pred), 2)\n",
    "    prec = round(100*precision_score(Y_test, Y_pred), 2)\n",
    "    print(algoType, note, ' : Accuracy  ', acc , 'Precision' , prec)"
   ]
  },
  {
   "cell_type": "code",
   "execution_count": 9,
   "metadata": {},
   "outputs": [],
   "source": [
    "# Fonction qui applique les 3 alos différents  \n",
    "\n",
    "def apply_classifier(X_train, _train, X_test, Y_test, note):\n",
    "\n",
    "    # Arbre de décision\n",
    "    DT = DecisionTreeClassifier(criterion = 'gini', random_state=1)\n",
    "    DT.fit(X_train, y_train)\n",
    "    Y_pred = DT.predict(X_test)\n",
    "    log_result(Y_test, Y_pred, 'arbre de décision', note)\n",
    "    \n",
    "    # K plus prohces voisins\n",
    "    KNN = KNeighborsClassifier(n_neighbors=5)\n",
    "    KNN.fit(X_train, y_train)\n",
    "    Y_pred = KNN.predict(X_test)\n",
    "    log_result(Y_test, Y_pred, 'K plus proches voisins', note)\n",
    "\n",
    "    #MultilayerPerceptron à deux couches de tailles respectives 40 et 20 et random_state=1\n",
    "    MLP = MLPClassifier( alpha=1e-5, hidden_layer_sizes=(40, 20), random_state=1)\n",
    "    MLP.fit(X_train, y_train)\n",
    "    Y_pred = MLP.predict(X_test)\n",
    "    log_result(Y_test, Y_pred, 'Perceptron multi couches', note)\n",
    "    "
   ]
  },
  {
   "cell_type": "markdown",
   "metadata": {},
   "source": [
    "# Normalisation"
   ]
  },
  {
   "cell_type": "code",
   "execution_count": 10,
   "metadata": {},
   "outputs": [],
   "source": [
<<<<<<< HEAD
    "from sklearn.preprocessing import StandardScaler"
=======
    "\n",
    "# Sans normalisation\n",
    "\n",
    "X_train, y_train, X_test, y_test, columns = prepare_data(data_path, test_size=0.5)\n",
    "print('train', X_train.shape, y_train.shape, 'test', X_test.shape, y_test.shape)\n",
    "\n",
    "apply_classifier(X_train, y_train, X_test, y_test, 'sans normalisation')\n",
    "\n",
    "\n",
    "\n"
>>>>>>> b2af8e2bef636beafc615677da436cacc68cfbb6
   ]
  },
  {
   "cell_type": "code",
   "execution_count": 11,
   "metadata": {},
   "outputs": [
    {
     "name": "stdout",
     "output_type": "stream",
     "text": [
      "---  arbre de décision  ---\n",
      "Matrice de confusion arbre de décision avec normalisation\n",
      "[[ 322  282]\n",
      " [ 315 1269]]\n",
      "arbre de décision avec normalisation  : Accuracy   72.71 Precision 81.82\n",
      "---  K plus proches voisins  ---\n",
      "Matrice de confusion K plus proches voisins avec normalisation\n",
      "[[ 286  318]\n",
      " [ 223 1361]]\n",
      "K plus proches voisins avec normalisation  : Accuracy   75.27 Precision 81.06\n",
      "---  Perceptron multi couches  ---\n",
      "Matrice de confusion Perceptron multi couches avec normalisation\n",
      "[[ 345  259]\n",
      " [ 222 1362]]\n",
      "Perceptron multi couches avec normalisation  : Accuracy   78.02 Precision 84.02\n"
     ]
    }
   ],
   "source": [
    "SC = StandardScaler()\n",
    "SC.fit(X_train)\n",
    "X_train_norm = SC.transform(X_train)\n",
    "X_test_norm = SC.transform(X_test)\n",
    "\n",
    "apply_classifier(X_train_norm, y_train, X_test_norm, y_test, 'avec normalisation')\n"
   ]
  },
  {
   "cell_type": "markdown",
   "metadata": {},
   "source": [
    "# Création de nouvelles variables caractéristiques"
   ]
  },
  {
   "cell_type": "code",
   "execution_count": 13,
   "metadata": {},
   "outputs": [],
   "source": [
    "from sklearn.decomposition import PCA"
   ]
  },
  {
   "cell_type": "code",
   "execution_count": 14,
   "metadata": {},
   "outputs": [
    {
     "name": "stdout",
     "output_type": "stream",
     "text": [
      "---  arbre de décision  ---\n",
      "Matrice de confusion arbre de décision avec ACP\n",
      "[[ 351  253]\n",
      " [ 324 1260]]\n",
      "arbre de décision avec ACP  : Accuracy   73.63 Precision 83.28\n",
      "---  K plus proches voisins  ---\n",
      "Matrice de confusion K plus proches voisins avec ACP\n",
      "[[ 283  321]\n",
      " [ 212 1372]]\n",
      "K plus proches voisins avec ACP  : Accuracy   75.64 Precision 81.04\n",
      "---  Perceptron multi couches  ---\n",
      "Matrice de confusion Perceptron multi couches avec ACP\n",
      "[[ 323  281]\n",
      " [ 211 1373]]\n",
      "Perceptron multi couches avec ACP  : Accuracy   77.51 Precision 83.01\n"
     ]
    }
   ],
   "source": [
    "# avec normalisation et ACP\n",
    "\n",
    "pca=PCA(n_components =3)\n",
    "pca.fit(X_train_norm)\n",
    "X_train_pca = pca.transform(X_train_norm)\n",
    "X_train_pca = np.concatenate((X_train_norm, X_train_pca), axis=1)\n",
    "\n",
    "X_test_pca = pca.transform(X_test_norm)\n",
    "X_test_pca = np.concatenate((X_test_norm, X_test_pca), axis=1)\n",
    "\n",
    "# dans evplutionPLot, ajouter le param sorded_idx\n",
    "apply_classifier(X_train_pca, y_train, X_test_pca, y_test, 'avec ACP')\n"
   ]
  },
  {
   "cell_type": "code",
<<<<<<< HEAD
   "execution_count": 22,
=======
   "execution_count": 21,
>>>>>>> b2af8e2bef636beafc615677da436cacc68cfbb6
   "metadata": {},
   "outputs": [
    {
     "name": "stdout",
     "output_type": "stream",
     "text": [
<<<<<<< HEAD
      "features [  9.   1.  60.  30.   0.   1.   1.  73. 129.   0.   0. 800. 846.   1.]\n",
      "[129.   9. 846. 800.  30.   0.  73.   1.  60.   1.   0.   1.   0.]\n"
=======
      "features Index(['Seniority', 'Home', 'Time', 'Age', 'Marital', 'Records', 'Job',\n",
      "       'Expenses', 'Income', 'Assets', 'Debt', 'Amount', 'Price'],\n",
      "      dtype='object')\n",
      "Index(['Income', 'Seniority', 'Price', 'Amount', 'Age', 'Assets', 'Expenses',\n",
      "       'Records', 'Time', 'Job', 'Debt', 'Home', 'Marital'],\n",
      "      dtype='object')\n"
>>>>>>> b2af8e2bef636beafc615677da436cacc68cfbb6
     ]
    },
    {
     "data": {
<<<<<<< HEAD
      "image/png": "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\n",
=======
      "image/png": "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\n",
>>>>>>> b2af8e2bef636beafc615677da436cacc68cfbb6
      "text/plain": [
       "<Figure size 432x288 with 1 Axes>"
      ]
     },
     "metadata": {
      "needs_background": "light"
     },
     "output_type": "display_data"
    }
   ],
   "source": [
<<<<<<< HEAD
    "#Ainsi, il faut afficher un histogramme des importances des variables. \n",
    "from sklearn.ensemble import RandomForestClassifier\n",
    "\n",
    "features = credit.iloc[0,:].values\n",
=======
    "from sklearn.ensemble import RandomForestClassifier\n",
    "features = columns[:13]\n",
>>>>>>> b2af8e2bef636beafc615677da436cacc68cfbb6
    "print(\"features\", features)\n",
    "clf = RandomForestClassifier(n_estimators=100)\n",
    "clf.fit(X_train_norm, y_train)\n",
    "importances=clf.feature_importances_\n",
    "std = np.std([tree.feature_importances_ for tree in clf.estimators_],axis=0)\n",
    "sorted_idx = np.argsort(importances)[::-1]\n",
    "print(features[sorted_idx])\n",
    "padding = np.arange(X_train_norm.size/len(X_train_norm)) + 0.5\n",
    "plt.barh(padding, importances[sorted_idx],xerr=std[sorted_idx], align='center')\n",
    "plt.yticks(padding, features[sorted_idx])\n",
    "plt.xlabel(\"Relative Importance\")\n",
    "plt.title(\"Variable Importance\")\n",
    "plt.show()"
   ]
<<<<<<< HEAD
  },
  {
   "cell_type": "code",
   "execution_count": 23,
   "metadata": {},
   "outputs": [
    {
     "data": {
      "image/png": "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\n",
      "text/plain": [
       "<Figure size 432x288 with 1 Axes>"
      ]
     },
     "metadata": {
      "needs_background": "light"
     },
     "output_type": "display_data"
    }
   ],
   "source": [
    "# Déterminer ensuite le nombre de variables à garder en exécutant le code suivant\n",
    "KNN=KNeighborsClassifier(n_neighbors=5)\n",
    "scores=np.zeros(X_train_norm.shape[1]+1)\n",
    "for f in np.arange(0, X_train_norm.shape[1]+1):\n",
    "    X1_f = X_train_norm[:,sorted_idx[:f+1]]\n",
    "    X2_f = X_test_norm[:,sorted_idx[:f+1]]\n",
    "    KNN.fit(X1_f,y_train)\n",
    "    y_pred = KNN.predict(X2_f)\n",
    "    scores[f]=np.round(accuracy_score(y_test,y_pred),3)\n",
    "plt.plot(scores)\n",
    "plt.xlabel(\"Nombre de Variables\")\n",
    "plt.ylabel(\"Accuracy\")\n",
    "plt.title(\"Evolution de l'accuracy en fonction des variables\")\n",
    "plt.show()"
   ]
  },
  {
   "cell_type": "code",
   "execution_count": null,
   "metadata": {},
   "outputs": [],
   "source": []
=======
>>>>>>> b2af8e2bef636beafc615677da436cacc68cfbb6
  }
 ],
 "metadata": {
  "kernelspec": {
   "display_name": "Python 3",
   "language": "python",
   "name": "python3"
  },
  "language_info": {
   "codemirror_mode": {
    "name": "ipython",
    "version": 3
   },
   "file_extension": ".py",
   "mimetype": "text/x-python",
   "name": "python",
   "nbconvert_exporter": "python",
   "pygments_lexer": "ipython3",
   "version": "3.8.5"
  }
 },
 "nbformat": 4,
 "nbformat_minor": 4
}
