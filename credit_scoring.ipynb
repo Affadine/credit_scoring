{
 "cells": [
  {
   "cell_type": "markdown",
   "metadata": {},
   "source": [
    "# Apprentissage Supervisé\n",
    "HAMAT Abdoulaye, 2021446\n",
    "GLASS Philippe, 2007698\n",
    "\n",
    "## Feature Engineering et Classification\n",
    "Ce projet a pour but d'étudier différentes méthodes de classification supervisée sur des données présentant diverses structures : numériques, catégorielles.\n",
    "\n",
    "### Chargement des données"
   ]
  },
  {
   "cell_type": "code",
   "execution_count": 1,
   "metadata": {},
   "outputs": [],
   "source": [
    "import numpy as np\n",
    "np.set_printoptions(threshold=1000000,suppress=True)\n",
    "import pandas as pd\n",
    "import warnings\n",
    "import matplotlib.pyplot as plt\n",
    "from sklearn.model_selection import train_test_split\n",
    "from sklearn.metrics import recall_score, precision_score, accuracy_score, roc_auc_score\n",
    "warnings.filterwarnings('ignore')"
   ]
  },
  {
   "cell_type": "code",
   "execution_count": 2,
   "metadata": {},
   "outputs": [
    {
     "name": "stdout",
     "output_type": "stream",
     "text": [
      "Nombre de donnée, Dimensions :  (4375, 13)\n",
      "Nombre d'entrée 0 :  1216  ( 27.79 %)\n",
      "Nombre d'entrée 1 :  3159  ( 72.21 %)\n",
      "\n",
      "Taille du jeu d'entrainement 2187 échantillons\n",
      "Taille du jeu de test :  2188 échantillons\n"
     ]
    }
   ],
   "source": [
    "data = pd.read_csv('./credit_scoring.csv', sep=';')\n",
    "X = data.iloc[:, 0:-1].values\n",
    "labels = data.iloc[:, 13].values\n",
    "nom_cols = data.columns\n",
    "\n",
    "n_zeros = np.histogram(labels, bins=2)[0][0]\n",
    "n_ones = np.histogram(labels, bins=2)[0][-1]\n",
    "\n",
    "print(\"Nombre de donnée, Dimensions : \",X.shape)\n",
    "print(\"Nombre d'entrée 0 : \", n_zeros, \" (\", round(n_zeros*100/len(labels), 2),\"%)\")\n",
    "print(\"Nombre d'entrée 1 : \", n_ones, \" (\", round(n_ones*100/len(labels), 2),\"%)\")\n",
    "print()\n",
    "X_train, X_test, labels_train, labels_test = train_test_split(X, labels, test_size = 0.5, random_state=1)\n",
    "print(\"Taille du jeu d'entrainement\", X_train.shape[0], \"échantillons\")\n",
    "print(\"Taille du jeu de test : \", X_test.shape[0],\"échantillons\")"
   ]
  },
  {
   "cell_type": "markdown",
   "metadata": {},
   "source": [
    "Le jeu de données contient plus de 4000 entrées majoritairement de classe 1 (environ 70%). Nous avons donc divisé l'ensemble de données en un dataset de test, et un dataset d'entrainement.\n",
    "\n",
    "### Apprentissage et évaluation de modèles\n",
    "On commence par implémenter un arbre de décision de type CART sur les données d'entrainement, ainsi qu'un algorithme des K plus proches voisins."
   ]
  },
  {
   "cell_type": "code",
   "execution_count": 3,
   "metadata": {},
   "outputs": [
    {
     "name": "stdout",
     "output_type": "stream",
     "text": [
      "Arbre CART\n",
      "\t Accuracy :  72.71 %\n",
      "\t Rappel :  79.92 %\n",
      "\t Précision :  81.94 %\n",
      "\t AUROC :  0.67\n"
     ]
    }
   ],
   "source": [
    "from sklearn.tree import DecisionTreeClassifier\n",
    "\n",
    "def tree(X_train, labels_train, X_test, labels_test) :\n",
    "    \"\"\"Créer et évalue un arbre CART sur les données passées en argument\"\"\"\n",
    "    \n",
    "    clf = DecisionTreeClassifier(random_state=1) # Création arbre\n",
    "    clf.fit(X_train, labels_train)               # Entrainement\n",
    "\n",
    "    prediction = clf.predict(X_test) # Evaluation\n",
    "    correct = np.equal(prediction, labels_test).sum()\n",
    "    print(\"Arbre CART\")\n",
    "    print(\"\\t Accuracy : \", round(accuracy_score(labels_test, prediction)*100, 2),\"%\")\n",
    "    print(\"\\t Rappel : \", round(recall_score(labels_test, prediction)*100, 2), \"%\")\n",
    "    print(\"\\t Précision : \", round(precision_score(labels_test, prediction)*100, 2), \"%\")\n",
    "    print(\"\\t AUROC : \", round(roc_auc_score(labels_test, prediction), 2))\n",
    "tree(X_train, labels_train, X_test, labels_test)"
   ]
  },
  {
   "cell_type": "markdown",
   "metadata": {},
   "source": [
    "L'algorithme CART permet de construire un arbre de classement binaire donnant une classe correcte dans 70%. Pour notre cas, on s'intéressera particulièrement à la précision :\n",
    "$$\\text{Précision} = \\frac{\\text{Nombre de clients correctement identifiés comme solvable}}{\\text{Nombre de clients identifiés comme solvable}}$$\n",
    "\n",
    "Si la précision est faible, cela indique que le classificateur considère des clients qui ne rembourseront pas leurs crédits comme solvables, ce qui qui est préjudiciable pour la banque. Une précision de 82% est assez satisfaisante. Nous allons faire la même expérience avec l'algorithme des K plus proches voisins (KNN)."
   ]
  },
  {
   "cell_type": "code",
   "execution_count": 4,
   "metadata": {},
   "outputs": [
    {
     "name": "stdout",
     "output_type": "stream",
     "text": [
      "K plus proche voisins\n",
      "\t Accuracy :  72.49 %\n",
      "\t Rappel :  88.19 %\n",
      "\t Précision :  77.1 %\n",
      "\t AUROC :  0.6\n"
     ]
    }
   ],
   "source": [
    "from sklearn.neighbors import KNeighborsClassifier\n",
    "\n",
    "def knn(X_train, labels_train, X_test, labels_test):\n",
    "    \"\"\"Créer et évalue un KNN sur les données passées en argument\"\"\"\n",
    "    clustering = KNeighborsClassifier(n_neighbors=5) # Création du classifier\n",
    "    clustering.fit(X_train, labels_train)            # Entrainement\n",
    "\n",
    "    prediction = clustering.predict(X_test)  # Evaluation\n",
    "    correct = np.equal(prediction, labels_test).sum()\n",
    "    print(\"K plus proche voisins\")\n",
    "    print(\"\\t Accuracy : \", round(accuracy_score(labels_test, prediction)*100, 2),\"%\")\n",
    "    print(\"\\t Rappel : \", round(recall_score(labels_test, prediction)*100, 2), \"%\")\n",
    "    print(\"\\t Précision : \", round(precision_score(labels_test, prediction)*100, 2), \"%\")\n",
    "    print(\"\\t AUROC : \", round(roc_auc_score(labels_test, prediction), 2))\n",
    "knn(X_train, labels_train, X_test, labels_test)"
   ]
  },
  {
   "cell_type": "markdown",
   "metadata": {},
   "source": [
    "\n",
    "  <table border=\"0\" cellpadding=\"0\" cellspacing=\"0\" id=\"sheet0\" class=\"sheet0 gridlines\">\n",
    "        <col class=\"col0\">\n",
    "        <col class=\"col1\">\n",
    "        <col class=\"col2\">\n",
    "        <tbody>\n",
    "          <tr class=\"row0\">\n",
    "            <td class=\"column0 style1 null\"></td>\n",
    "            <td class=\"column1 style1 s\">Class_0</td>\n",
    "            <td class=\"column2 style1 s\">Class_1</td>\n",
    "          </tr>\n",
    "          <tr class=\"row1\">\n",
    "            <td class=\"column0 style1 s\">Count</td>\n",
    "            <td class=\"column1 style2 s\">284315</td>\n",
    "              <td class=\"column2 style3 s\"><strong>492</strong></td>\n",
    "          </tr>\n",
    "          <tr class=\"row2\">\n",
    "            <td class=\"column0 style1 s\">mean</td>\n",
    "            <td class=\"column1 style1 s\">88.29</td>\n",
    "              <td class=\"column2 style4 s\"><strong>122.21</strong></td>\n",
    "          </tr>\n",
    "          <tr class=\"row3\">\n",
    "            <td class=\"column0 style1 s\">std</td>\n",
    "              <td class=\"column1 style5 s\"><strong>250.10</strong></td>\n",
    "            <td class=\"column2 style1 s\">256,68</td>\n",
    "          </tr>\n",
    "          <tr class=\"row4\">\n",
    "            <td class=\"column0 style1 s\">min</td>\n",
    "            <td class=\"column1 style1 s\">0</td>\n",
    "              <td class=\"column2 style3 s\"><strong>0</strong></td>\n",
    "          </tr>\n",
    "          <tr class=\"row4\">\n",
    "            <td class=\"column0 style1 s\">25%</td>\n",
    "            <td class=\"column1 style1 s\">5.65</td>\n",
    "              <td class=\"column2 style3 s\"><strong>1</strong></td>\n",
    "          </tr>\n",
    "          <tr class=\"row4\">\n",
    "            <td class=\"column0 style1 s\">50%</td>\n",
    "            <td class=\"column1 style1 s\">22</td>\n",
    "              <td class=\"column2 style3 s\"><strong>9.25</strong></td>\n",
    "          </tr>\n",
    "          <tr class=\"row4\">\n",
    "            <td class=\"column0 style1 s\">75%</td>\n",
    "            <td class=\"column1 style1 s\"> 77.05</td>\n",
    "              <td class=\"column2 style3 s\"><strong>105.89</strong></td>\n",
    "          </tr>\n",
    "          <tr class=\"row4\">\n",
    "            <td class=\"column0 style1 s\">max</td>\n",
    "            <td class=\"column1 style1 s\">25691.1</td>\n",
    "              <td class=\"column2 style3 s\"><strong>2125.87</strong></td>\n",
    "          </tr>\n",
    "        </tbody>\n",
    "    </table>\n"
   ]
  },
  {
   "cell_type": "code",
   "execution_count": 5,
   "metadata": {
    "scrolled": true
   },
   "outputs": [
    {
     "name": "stdout",
     "output_type": "stream",
     "text": [
      "Arbre CART\n",
      "\t Accuracy :  72.71 %\n",
      "\t Rappel :  80.11 %\n",
      "\t Précision :  81.82 %\n",
      "\t AUROC :  0.67\n",
      "K plus proche voisins\n",
      "\t Accuracy :  75.27 %\n",
      "\t Rappel :  85.92 %\n",
      "\t Précision :  81.06 %\n",
      "\t AUROC :  0.67\n"
     ]
    }
   ],
   "source": [
    "from sklearn.preprocessing import StandardScaler, MinMaxScaler\n",
    "# Calcul du scaler\n",
    "scaler = StandardScaler()\n",
    "scaler.fit(X_train)\n",
    "\n",
    "# Rescaling des données\n",
    "X_train_norm = scaler.transform(X_train)\n",
    "X_test_norm = scaler.transform(X_test)\n",
    "\n",
    "# Evaluation des performances\n",
    "tree(X_train_norm, labels_train, X_test_norm, labels_test)\n",
    "knn(X_train_norm, labels_train, X_test_norm, labels_test)"
   ]
  },
  {
   "cell_type": "markdown",
   "metadata": {},
   "source": [
    "Nous constatons que la normalisation n'a pas beaucoup d'effets sur l'arbre, ce qui est logique étant donné sa structure. Cependant, elle semble améliorer légèrement les KNN qui dépendent plus de la taille des features : le calcul de la distance est fortement impacté par la variance des variables. Par conséquent, la normalisation des données permet de faire ressortir des informations masquées par les attributs trop étendus.\n",
    "\n",
    "<table border=\"0\" cellpadding=\"0\" cellspacing=\"0\" id=\"sheet0\" class=\"sheet0 gridlines\">\n",
    "        <col class=\"col0\">\n",
    "        <col class=\"col1\">\n",
    "        <col class=\"col2\">\n",
    "        <tbody>\n",
    "          <tr class=\"row0\">\n",
    "            <td class=\"column0 style1 null\"></td>\n",
    "            <td class=\"column1 style1 s\">KNN sans normalisation</td>\n",
    "            <td class=\"column2 style1 s\">KNN avec normalisation</td>\n",
    "          </tr>\n",
    "          <tr class=\"row1\">\n",
    "            <td class=\"column0 style1 s\">Accuracy</td>\n",
    "            <td class=\"column1 style2 s\">72.5%</td>\n",
    "              <td class=\"column2 style3 s\"><strong>75.3%</strong></td>\n",
    "          </tr>\n",
    "          <tr class=\"row2\">\n",
    "            <td class=\"column0 style1 s\">précision</td>\n",
    "            <td class=\"column1 style1 s\">77.1%</td>\n",
    "              <td class=\"column2 style4 s\"><strong>81.0%</strong></td>\n",
    "          </tr>\n",
    "          <tr class=\"row3\">\n",
    "            <td class=\"column0 style1 s\">Rappel</td>\n",
    "              <td class=\"column1 style5 s\"><strong>88.2%</strong></td>\n",
    "            <td class=\"column2 style1 s\">85.9%</td>\n",
    "          </tr>\n",
    "          <tr class=\"row4\">\n",
    "            <td class=\"column0 style1 s\">Auroc</td>\n",
    "            <td class=\"column1 style1 s\">0.6</td>\n",
    "              <td class=\"column2 style3 s\"><strong>0.67</strong></td>\n",
    "          </tr>\n",
    "        </tbody>\n",
    "    </table>\n",
    "\n",
    "###  Création de nouvelles variables caractéristiques\n",
    "Nous allons utiliser l'ACP (analyse en composantes principales) pour mettre en évidence des combinaisons linéaires entre les colonnes et donc réduire le nombre d'axes. Cela pourrait éventuellement améliorer les performances des classifieurs :"
   ]
  },
  {
   "cell_type": "code",
   "execution_count": 6,
   "metadata": {},
   "outputs": [
    {
     "name": "stdout",
     "output_type": "stream",
     "text": [
      "Arbre CART\n",
      "\t Accuracy :  73.63 %\n",
      "\t Rappel :  79.55 %\n",
      "\t Précision :  83.28 %\n",
      "\t AUROC :  0.69\n",
      "K plus proche voisins\n",
      "\t Accuracy :  75.64 %\n",
      "\t Rappel :  86.62 %\n",
      "\t Précision :  81.04 %\n",
      "\t AUROC :  0.67\n"
     ]
    }
   ],
   "source": [
    "from sklearn.decomposition import PCA\n",
    "\n",
    "pca = PCA(3)\n",
    "X_train_pca = pca.fit_transform(X_train_norm)\n",
    "X_train_aug = np.concatenate((X_train_norm, X_train_pca), axis=1)\n",
    "\n",
    "X_test_pca = pca.transform(X_test_norm)\n",
    "X_test_aug = np.concatenate((X_test_norm, X_test_pca), axis=1)\n",
    "\n",
    "tree(X_train_aug, labels_train, X_test_aug, labels_test)\n",
    "knn(X_train_aug, labels_train, X_test_aug, labels_test)"
   ]
  },
  {
   "cell_type": "markdown",
   "metadata": {},
   "source": [
    "Les résultats nous montrent que le PCA améliore les performances générales des deux algorithmes.\n",
    "\n",
    "<table border=\"0\" cellpadding=\"0\" cellspacing=\"0\" id=\"sheet0\" class=\"sheet0 gridlines\">\n",
    "        <col class=\"col0\">\n",
    "        <col class=\"col1\">\n",
    "        <col class=\"col2\">\n",
    "        <col class=\"col3\">\n",
    "        <col class=\"col4\">\n",
    "        <tbody>\n",
    "          <tr class=\"row0\">\n",
    "            <td class=\"column0 style1 null\"></td>\n",
    "            <td class=\"column1 style1 s\">Accuracy</td>\n",
    "            <td class=\"column2 style1 s\">Rappel</td>\n",
    "            <td class=\"column3 style1 s\">Précision</td>\n",
    "            <td class=\"column4 style1 s\">Auroc</td>\n",
    "          </tr>\n",
    "          <tr class=\"row1\">\n",
    "            <td class=\"column0 style1 s\">CART sans PCA</td>\n",
    "            <td class=\"column1 style2 s\">72.5%</td>\n",
    "              <td class=\"column2 style4 s\"><strong>80.0%</strong></td>\n",
    "            <td class=\"column3 style1 s\">77.1%</td>\n",
    "            <td class=\"column4 style1 s\">0.67</td>\n",
    "          </tr>\n",
    "          <tr class=\"row2\">\n",
    "            <td class=\"column0 style1 s\">CART avec PCA</td>\n",
    "              <td class=\"column1 style3 s\"><strong>73.6%</strong></td>\n",
    "            <td class=\"column2 style5 s\">79.5%</td>\n",
    "              <td class=\"column3 style3 s\"><strong>83.3%</strong></td>\n",
    "              <td class=\"column4 style3 s\"><strong>0.69</strong></td>\n",
    "          </tr>\n",
    "          <tr class=\"row3\">\n",
    "            <td class=\"column0 style1 s\">KNN sans PCA</td>\n",
    "            <td class=\"column1 style6 s\">72.5%</td>\n",
    "              <td class=\"column2 style3 s\"><strong>88.2%</strong></td>\n",
    "            <td class=\"column3 style1 s\">77.1%</td>\n",
    "            <td class=\"column4 style1 s\">0.6</td>\n",
    "          </tr>\n",
    "          <tr class=\"row4\">\n",
    "            <td class=\"column0 style1 s\">KNN avec PCA</td>\n",
    "              <td class=\"column1 style3 s\"><strong>75.6%</strong></td>\n",
    "            <td class=\"column2 style7 s\">86.6%</td>\n",
    "              <td class=\"column3 style4 s\"><strong>81.0%</strong></td>\n",
    "              <td class=\"column4 style3 s\"><strong>0.67</strong></td>\n",
    "          </tr>\n",
    "        </tbody>\n",
    "</table>\n",
    "\n",
    "### Sélection de variables\n",
    "L'utilisation d'un Random-Forest permet d'identifier les variables les plus pertinentes vis-à-vis de la classification. On va donc étudier l'intérêt de chaque feature pour réduire l'impureté de chaque noeud."
   ]
  },
  {
   "cell_type": "code",
   "execution_count": 7,
   "metadata": {},
   "outputs": [
    {
     "data": {
      "image/png": "[encoded data removed]",
      "text/plain": [
       "<Figure size 432x288 with 1 Axes>"
      ]
     },
     "metadata": {
      "needs_background": "light"
     },
     "output_type": "display_data"
    }
   ],
   "source": [
    "from sklearn.ensemble import RandomForestClassifier\n",
    "\n",
    "clf = RandomForestClassifier(n_estimators=100)\n",
    "clf.fit(X_train_norm, labels_train)\n",
    "\n",
    "importances=clf.feature_importances_\n",
    "\n",
    "std = np.std([tree.feature_importances_ for tree in clf.estimators_],axis=0)\n",
    "sorted_idx = np.argsort(importances)[::-1]\n",
    "features =nom_cols\n",
    "\n",
    "padding = np.arange(X_train_norm.size/len(X_train_norm)) + 0.5\n",
    "plt.barh(padding, importances[sorted_idx],xerr=std[sorted_idx], align='center')\n",
    "plt.yticks(padding, features[sorted_idx])\n",
    "plt.xlabel(\"Relative Importance\")\n",
    "plt.title(\"Variable Importance\")\n",
    "plt.show()"
   ]
  },
  {
   "cell_type": "markdown",
   "metadata": {},
   "source": [
    "Les variables les plus importantes pour la classification sont le revenu et l'ancienneté alors que le mariage et le fait de posséder une maison influence peu. On va maintenant chercher à déduire le nombre de features minimum pour classer au mieux les données."
   ]
  },
  {
   "cell_type": "code",
   "execution_count": 8,
   "metadata": {},
   "outputs": [
    {
     "data": {
      "image/png": "[encoded data removed]",
      "text/plain": [
       "<Figure size 432x288 with 1 Axes>"
      ]
     },
     "metadata": {
      "needs_background": "light"
     },
     "output_type": "display_data"
    }
   ],
   "source": [
    "from time import time_ns\n",
    "\n",
    "KNN=KNeighborsClassifier(n_neighbors=5)\n",
    "scores=np.zeros(X_train_norm.shape[1]+1)\n",
    "for f in np.arange(0, X_train_norm.shape[1]+1):\n",
    "    X1_f = X_train_norm[:,sorted_idx[:f+1]]\n",
    "    X2_f = X_test_norm[:,sorted_idx[:f+1]]\n",
    "    KNN.fit(X1_f,labels_train)\n",
    "    YKNN=KNN.predict(X2_f)\n",
    "    scores[f]=np.round(accuracy_score(labels_test,YKNN),3)\n",
    "\n",
    "plt.plot(scores)\n",
    "plt.xlabel(\"Nombre de Variables\")\n",
    "plt.ylabel(\"Accuracy\")\n",
    "plt.title(\"Evolution de l'accuracy en fonction des variables\")\n",
    "plt.grid()\n",
    "plt.show()"
   ]
  },
  {
   "cell_type": "markdown",
   "metadata": {},
   "source": [
    "On se limite aux 7 premières variables (premier décrochage da la courbe) : *Income*, *Seniority*, *Price*, *Amount*, *Age*, *Assets* et *Expense*. On peut procéder de même avec la classification en arbre, ce qui donne les résultats ci-dessous :"
   ]
  },
  {
   "cell_type": "code",
   "execution_count": 9,
   "metadata": {},
   "outputs": [
    {
     "data": {
      "image/png": "[encoded data removed]",
      "text/plain": [
       "<Figure size 432x288 with 1 Axes>"
      ]
     },
     "metadata": {
      "needs_background": "light"
     },
     "output_type": "display_data"
    }
   ],
   "source": [
    "tree=DecisionTreeClassifier()\n",
    "scores=np.zeros(X_train_norm.shape[1]+1)\n",
    "for f in np.arange(0, X_train_norm.shape[1]+1):\n",
    "    X1_f = X_train_norm[:,sorted_idx[:f+1]]\n",
    "    X2_f = X_test_norm[:,sorted_idx[:f+1]]\n",
    "    tree.fit(X1_f,labels_train)\n",
    "    Ytree=tree.predict(X2_f)\n",
    "    scores[f]=np.round(accuracy_score(labels_test,Ytree),3)\n",
    "\n",
    "plt.plot(scores)\n",
    "plt.xlabel(\"Nombre de Variables\")\n",
    "plt.ylabel(\"Accuracy\")\n",
    "plt.title(\"Evolution de l'accuracy en fonction des variables\")\n",
    "plt.grid()\n",
    "plt.show()"
   ]
  },
  {
   "cell_type": "markdown",
   "metadata": {},
   "source": [
    "Cette étude nous a permis d'adapter le nombre de variables sans sacrifier l'accuracy. Cela peut être intéressant si le nombre de *features* est trop grand et que l'on souhaite réduire le temps de calcul sans impacter les performances.\n",
    "\n",
    "### Paramétrage des classifieurs\n",
    "On doit maintenant régler les paramètres de chacun des algorithmes pour obtenir les meilleures performances possibles. Pour cela, on va utiliser la fonctionnalité de SKLearn qui permet d'explorer rapidement différents paramètres."
   ]
  },
  {
   "cell_type": "code",
   "execution_count": 10,
   "metadata": {},
   "outputs": [
    {
     "name": "stdout",
     "output_type": "stream",
     "text": [
      "\n",
      " Best :  [{'max_depth': 4, 'max_features': 6, 'min_samples_leaf': 2}, 77.33]\n"
     ]
    }
   ],
   "source": [
    "from sklearn.model_selection import GridSearchCV\n",
    "from sklearn.metrics import make_scorer\n",
    "\n",
    "parameters = {\"min_samples_leaf\" : [2, 5, 10],\n",
    "             'max_depth' : [None, 2, 4, 6],\n",
    "             \"max_features\" : [None, 2, 4, 6, 8]}\n",
    "scoring = {'AUC': 'roc_auc','Accuracy': make_scorer(accuracy_score)}\n",
    "\n",
    "gs = GridSearchCV(DecisionTreeClassifier(random_state=1),\n",
    "                  param_grid=parameters,\n",
    "                  scoring=scoring, refit='AUC', return_train_score=True)\n",
    "\n",
    "gs.fit(X, labels)\n",
    "results = gs.cv_results_\n",
    "best = [results[\"params\"][0], round(results['mean_test_Accuracy'][0]*100, 2)]\n",
    "for i in range(len(results['mean_test_Accuracy'])):\n",
    "    # print(results[\"params\"][i], \" : \", round(results['mean_test_Accuracy'][i]*100, 2), \"%\")\n",
    "    if round(results['mean_test_Accuracy'][i]*100, 2) > best[1]:\n",
    "        best = [results[\"params\"][i], round(results['mean_test_Accuracy'][i]*100, 2)]\n",
    "print(\"\\n Best : \", best)"
   ]
  },
  {
   "cell_type": "markdown",
   "metadata": {},
   "source": [
    "L'algorithme ci-dessus nous donne les meilleurs paramètres pour la classification en arbres. Il affiche seulement le meilleur résultat, mais en analysant les performances détaillées : le paramètre min_samples_leaf n'influe que très peu sur la précision, contrairement au paramètre max_depth qui influe beaucoup plus.\n",
    "On effectue la même opération avec l'algorithme des KNN :"
   ]
  },
  {
   "cell_type": "code",
   "execution_count": 11,
   "metadata": {},
   "outputs": [
    {
     "name": "stdout",
     "output_type": "stream",
     "text": [
      "\n",
      " Best:  [{'n_neighbors': 17, 'p': 1}, 73.76]\n"
     ]
    }
   ],
   "source": [
    "parameters = {'n_neighbors':range(5, 20, 2),\n",
    "             \"p\" : [1, 2],}\n",
    "scoring = {'AUC': 'roc_auc','Accuracy': make_scorer(accuracy_score)}\n",
    "\n",
    "gs = GridSearchCV(KNeighborsClassifier(),\n",
    "                  param_grid=parameters,\n",
    "                  scoring=scoring, refit='AUC', return_train_score=True)\n",
    "\n",
    "gs.fit(X, labels)\n",
    "results = gs.cv_results_\n",
    "\n",
    "best = [results[\"params\"][0], round(results['mean_test_Accuracy'][0]*100, 2)]\n",
    "for i in range(len(results['mean_test_Accuracy'])):\n",
    "    # print(results[\"params\"][i], \" : \", round(results['mean_test_Accuracy'][i]*100, 2), \"%\")\n",
    "    if round(results['mean_test_Accuracy'][i]*100, 2) > best[1]:\n",
    "        best = [results[\"params\"][i], round(results['mean_test_Accuracy'][i]*100, 2)]\n",
    "print(\"\\n Best: \", best)"
   ]
  },
  {
   "cell_type": "markdown",
   "metadata": {},
   "source": [
    "Nous constatons sans surprise que la précision est meilleure lorsque le nombre de voisins augmente mais nous constatons également que la distance de Manhattan donne un léger avantage par rapport à la norme euclidienne. \n",
    "### Pipeline\n",
    "L'ensemble de la procédure a été stockée dans un pipeline puis enregistrée dans un fichier *save_pip.p*. Cela permet de recharger rapidement le classifieur sans avoir à ré-entrainer le modèle. "
   ]
  },
  {
   "cell_type": "code",
   "execution_count": 12,
   "metadata": {},
   "outputs": [
    {
     "name": "stdout",
     "output_type": "stream",
     "text": [
      "Accuracy :  77.51 %\n"
     ]
    }
   ],
   "source": [
    "from sklearn.pipeline import Pipeline\n",
    "from sklearn.pipeline import FeatureUnion\n",
    "import pickle\n",
    "scaler = StandardScaler()\n",
    "pca = PCA(3)\n",
    "\n",
    "sub_pip = FeatureUnion([(\"pca\", Pipeline(([\"scale\", scaler], [\"pca\", pca]))), (\"scaler\", scaler)])\n",
    "\n",
    "pipeline = Pipeline([('ss',StandardScaler()),\n",
    "                    ('classifieur',KNeighborsClassifier(n_neighbors=17))\n",
    "              ])\n",
    "pipeline.fit(X_train, labels_train)\n",
    "pickle.dump(pipeline, open( \"save_pip.p\", \"wb\" ))\n",
    "pipeline = pickle.load(open(\"save_pip.p\", \"rb\"))\n",
    "prediction = pipeline.predict(X_test)\n",
    "print(\"Accuracy : \", round(accuracy_score(labels_test, prediction)*100, 2),\"%\")"
   ]
  },
  {
   "cell_type": "markdown",
   "metadata": {},
   "source": [
    "Le code ci-dessus permet  d'enregistrer puis de recharger un modèle entrainé.\n",
    "### Comparaison de plusieurs algorithmes\n",
    "Pour comparer les différents algorithmes, nous utilisons plusieurs métriques, : l'accuracy, l'aire sur la courbe AUC qui doit être proche de 1, le temps de calcul nécessaire et la précision. "
   ]
  },
  {
   "cell_type": "code",
   "execution_count": 13,
   "metadata": {
    "scrolled": true
   },
   "outputs": [
    {
     "name": "stdout",
     "output_type": "stream",
     "text": [
      "NBayes ( 1.3 ms)\n",
      "\t Accuracy : 77.0 +/- 2.2 %\n",
      "\t AUROC : 0.79 +/- 0.03\n",
      "\t Précision : 83.0 +/- 1.3 %\n",
      "Tree ( 4.3 ms)\n",
      "\t Accuracy : 77.0 +/- 1.4 %\n",
      "\t AUROC : 0.76 +/- 0.02\n",
      "\t Précision : 80.0 +/- 1.1 %\n",
      "MLP ( 508.7 ms)\n",
      "\t Accuracy : 71.0 +/- 5.3 %\n",
      "\t AUROC : 0.73 +/- 0.04\n",
      "\t Précision : 81.0 +/- 4.1 %\n",
      "KNN ( 11.1 ms)\n",
      "\t Accuracy : 74.0 +/- 1.7 %\n",
      "\t AUROC : 0.69 +/- 0.03\n",
      "\t Précision : 76.0 +/- 1.3 %\n",
      "Bagging ( 515.2 ms)\n",
      "\t Accuracy : 77.0 +/- 1.4 %\n",
      "\t AUROC : 0.81 +/- 0.02\n",
      "\t Précision : 82.0 +/- 0.5 %\n",
      "Adaboost ( 135.2 ms)\n",
      "\t Accuracy : 79.0 +/- 1.6 %\n",
      "\t AUROC : 0.83 +/- 0.02\n",
      "\t Précision : 82.0 +/- 1.2 %\n",
      "Randomforest ( 183.0 ms)\n",
      "\t Accuracy : 78.0 +/- 2.0 %\n",
      "\t AUROC : 0.82 +/- 0.02\n",
      "\t Précision : 82.0 +/- 0.9 %\n"
     ]
    }
   ],
   "source": [
    "from sklearn.naive_bayes import GaussianNB\n",
    "from sklearn.neural_network import MLPClassifier\n",
    "from sklearn.ensemble import BaggingClassifier, AdaBoostClassifier, RandomForestClassifier\n",
    "from sklearn.model_selection import cross_validate , KFold\n",
    "\n",
    "\n",
    "def run_classifiers(clfs, X, Y):\n",
    "    kf = KFold(n_splits=10, shuffle=True, random_state=0)\n",
    "    kf2 = KFold(n_splits=5, shuffle=True, random_state=0)\n",
    "    for i in clfs:\n",
    "        clf = clfs[i]\n",
    "        cv = cross_validate(clf, X, Y, cv=kf, scoring=scoring)\n",
    "        cv2 = cross_validate(clf, X, Y, cv=kf2, scoring={\"Precision\" : make_scorer(precision_score)})\n",
    "        cv_time = cv['fit_time']\n",
    "        cv_acc = cv['test_Accuracy']\n",
    "        cv_auc = cv[\"test_AUC\"]\n",
    "        cv_prec = cv2[\"test_Precision\"]\n",
    "        print(i, \"(\", round(np.mean(cv_time)*1000, 1), \"ms)\")\n",
    "        print(\"\\t Accuracy :\", round(np.mean(cv_acc),2)*100,\"+/-\", round(np.std(cv_acc)*100,1),\"%\")\n",
    "        print(\"\\t AUROC :\", round(np.mean(cv_auc),2),\"+/-\", round(np.std(cv_auc),2))\n",
    "        print(\"\\t Précision :\", round(np.mean(cv_prec),2)*100,\"+/-\", round(np.std(cv_prec)*100,1),\"%\")\n",
    "\n",
    "\n",
    "clfs = {\"NBayes\" : GaussianNB(),\n",
    "\"Tree\" : DecisionTreeClassifier(max_depth=4, max_features=8, min_samples_leaf=10),\n",
    "\"MLP\" : MLPClassifier([20, 10]),\n",
    "\"KNN\" : KNeighborsClassifier(n_neighbors=19, p=1),\n",
    "\"Bagging\" : BaggingClassifier(n_estimators=50),\n",
    "\"Adaboost\" : AdaBoostClassifier(n_estimators=50),\n",
    "\"Randomforest\" : RandomForestClassifier(n_estimators=50)}\n",
    "\n",
    "run_classifiers(clfs, X, labels)\n",
    "\n"
   ]
  },
  {
   "cell_type": "markdown",
   "metadata": {},
   "source": [
    "Selon les scores obtenus, les algorithmes les plus performants sont Naive Bayes, Adaboost**, RandomForest** et Bagging. Naive Bayes se distingue hautement grâce à sa rapidité et ses excellentes performances. Le perceptron multicouches donne une accuracy plus faible que les autres, mais possède une meilleure précision. \n",
    "    <table border=\"0\" cellpadding=\"0\" cellspacing=\"0\" id=\"sheet0\" class=\"sheet0 gridlines\">\n",
    "        <col class=\"col0\">\n",
    "        <col class=\"col1\">\n",
    "        <col class=\"col2\">\n",
    "        <col class=\"col3\">\n",
    "        <col class=\"col4\">\n",
    "        <tbody>\n",
    "          <tr class=\"row0\">\n",
    "            <td class=\"column0 style1 null\"></td>\n",
    "            <td class=\"column1 style1 s\">Accuracy</td>\n",
    "            <td class=\"column2 style1 s\">Précision</td>\n",
    "            <td class=\"column3 style1 s\">Auroc</td>\n",
    "            <td class=\"column4 style1 s\">Time</td>\n",
    "          </tr>\n",
    "          <tr class=\"row1\">\n",
    "            <td class=\"column0 style1 s\">Nbayes</td>\n",
    "            <td class=\"column1 style2 s\">77.0%</td>\n",
    "            <td class=\"column2 style6 s\">83.0%</td>\n",
    "            <td class=\"column3 style1 s\">0.79</td>\n",
    "            <td class=\"column4 style1 s\">1.5ms</td>\n",
    "          </tr>\n",
    "          <tr class=\"row2\">\n",
    "            <td class=\"column0 style1 s\">CART</td>\n",
    "            <td class=\"column1 style2 s\">76.0%</td>\n",
    "            <td class=\"column2 style6 s\">79.0%</td>\n",
    "            <td class=\"column3 style7 s\">0.77</td>\n",
    "              <td class=\"column4 style3 s\"><strong>3.6ms</strong></td>\n",
    "          </tr>\n",
    "          <tr class=\"row3\">\n",
    "            <td class=\"column0 style1 s\">MLP</td>\n",
    "            <td class=\"column1 style2 s\">72.0%</td>\n",
    "              <td class=\"column2 style4 s\"><strong>80.0%</strong></td>\n",
    "            <td class=\"column3 style1 s\">0.7</td>\n",
    "            <td class=\"column4 style1 s\"> 754.8 ms</td>\n",
    "          </tr>\n",
    "          <tr class=\"row4\">\n",
    "            <td class=\"column0 style1 s\">KNN</td>\n",
    "            <td class=\"column1 style2 s\">74.0%</td>\n",
    "            <td class=\"column2 style6 s\">76.0%</td>\n",
    "            <td class=\"column3 style6 s\">0.69</td>\n",
    "            <td class=\"column4 style7 s\">13.9 ms</td>\n",
    "          </tr>\n",
    "          <tr class=\"row5\">\n",
    "            <td class=\"column0 style8 s\">Bagging</td>\n",
    "            <td class=\"column1 style2 s\">77.0%</td>\n",
    "            <td class=\"column2 style4 s\"><strong>83.0%</strong></td>\n",
    "            <td class=\"column3 style8 s\">0.82</td>\n",
    "            <td class=\"column4 style8 s\">583.3 ms</td>\n",
    "          </tr>\n",
    "          <tr class=\"row6\">\n",
    "            <td class=\"column0 style8 s\">Adaboost</td>\n",
    "            <td class=\"column1 style5 s\"><strong>79.0%</strong></td>\n",
    "             <td class=\"column2 style4 s\"><strong>82.0%</strong></td>\n",
    "              <td class=\"column3 style9 s\"><strong>0.83</strong></td>\n",
    "            <td class=\"column4 style10 s\">167.8 ms</td>\n",
    "          </tr>\n",
    "          <tr class=\"row7\">\n",
    "            <td class=\"column0 style8 s\">RandomForest</td>\n",
    "            <td class=\"column1 style2 s\">78.0%</td>\n",
    "             <td class=\"column2 style4 s\"><strong>82.0%</strong></td>\n",
    "            <td class=\"column3 style8 s\">0.82</td>\n",
    "            <td class=\"column4 style8 s\">218.4 ms</td>\n",
    "          </tr>\n",
    "        </tbody>\n",
    "    </table>\n",
    "\n",
    "## Apprentissage supervisé : Données hétérogènes\n",
    "Dans cette partie, nous traitons un jeu des données hétérogènes qui contiennent à la fois des données numériques et des données catégorielles.\n",
    "### Chargement des données\n",
    "Nous procédons comme suit :\n",
    "- Séparation des données numériques des données catégorielles\n",
    "- Remplacer les données manquantes par des \"nan\"\n",
    "- Transformation des labels en booléens"
   ]
  },
  {
   "cell_type": "code",
   "execution_count": 14,
   "metadata": {},
   "outputs": [
    {
     "name": "stdout",
     "output_type": "stream",
     "text": [
      "Taille de l'échantillon :  (665, 6)\n",
      "Nombre d'entrée 0 :  367  ( 55.19 %)\n",
      "Nombre d'entrée 1 :  298  ( 44.81 %)\n",
      "Nombre de lignes avec des données manquantes :  22\n"
     ]
    }
   ],
   "source": [
    "data = pd.read_csv('./credit.data', sep=None)\n",
    "data_array = data.values\n",
    "X = data_array[:, 0:-1]\n",
    "Y = data_array[:, -1]\n",
    "\n",
    "\n",
    "# Isolation des colonnes numériques\n",
    "col_cat = [0,3,4,5,6,8,9,11,12]\n",
    "col_num = [1, 2, 7, 10, 13, 14]\n",
    "\n",
    "X_numeric = X[:, col_num]\n",
    "X_numeric[X_numeric==\"?\"] = np.nan\n",
    "X_numeric = X_numeric.astype(np.float)\n",
    "\n",
    "nan_lines = np.isnan(X_numeric).any(axis=1)\n",
    "X_numeric = X_numeric[~nan_lines]\n",
    "\n",
    "# Binarisation\n",
    "Y = np.where(Y=='+', 1, Y)\n",
    "Y = np.where(Y=='-', 0, Y)\n",
    "Y = Y.astype(np.int)\n",
    "Y_numeric = Y[~nan_lines]\n",
    "print(\"Taille de l'échantillon : \", X_numeric.shape)\n",
    "\n",
    "n_zeros = np.histogram(Y_numeric)[0][0]\n",
    "n_ones = np.histogram(Y_numeric)[0][-1]\n",
    "print(\"Nombre d'entrée 0 : \", n_zeros, \" (\", round(n_zeros*100/len(Y_numeric), 2),\"%)\")\n",
    "print(\"Nombre d'entrée 1 : \", n_ones, \" (\", round(n_ones*100/len(Y_numeric), 2),\"%)\")\n",
    "print(\"Nombre de lignes avec des données manquantes : \", nan_lines.sum())"
   ]
  },
  {
   "cell_type": "markdown",
   "metadata": {},
   "source": [
    "L'ensemble comporte 22 lignes avec des données manquantes et l'échantillon comporte 665 entrées réparties équitablement entre les deux classes."
   ]
  },
  {
   "cell_type": "markdown",
   "metadata": {},
   "source": [
    "### Test des algorithmes"
   ]
  },
  {
   "cell_type": "markdown",
   "metadata": {},
   "source": [
    "On commence par tester les algorithmes de classification sur l'ensemble des données numériques :"
   ]
  },
  {
   "cell_type": "code",
   "execution_count": 15,
   "metadata": {},
   "outputs": [
    {
     "name": "stdout",
     "output_type": "stream",
     "text": [
      "NBayes ( 0.7 ms)\n",
      "\t Accuracy : 71.0 +/- 5.8 %\n",
      "\t AUROC : 0.79 +/- 0.06\n",
      "\t Précision : 85.0 +/- 8.9 %\n",
      "Tree ( 1.7 ms)\n",
      "\t Accuracy : 71.0 +/- 6.1 %\n",
      "\t AUROC : 0.71 +/- 0.06\n",
      "\t Précision : 67.0 +/- 5.4 %\n",
      "MLP ( 259.2 ms)\n",
      "\t Accuracy : 61.0 +/- 9.7 %\n",
      "\t AUROC : 0.6 +/- 0.12\n",
      "\t Précision : 62.0 +/- 33.4 %\n",
      "KNN ( 0.9 ms)\n",
      "\t Accuracy : 68.0 +/- 4.6 %\n",
      "\t AUROC : 0.75 +/- 0.04\n",
      "\t Précision : 73.0 +/- 4.7 %\n",
      "Bagging ( 86.7 ms)\n",
      "\t Accuracy : 77.0 +/- 5.5 %\n",
      "\t AUROC : 0.83 +/- 0.05\n",
      "\t Précision : 77.0 +/- 4.8 %\n",
      "Adaboost ( 52.1 ms)\n",
      "\t Accuracy : 79.0 +/- 5.3 %\n",
      "\t AUROC : 0.85 +/- 0.05\n",
      "\t Précision : 79.0 +/- 4.2 %\n",
      "Randomforest ( 56.5 ms)\n",
      "\t Accuracy : 77.0 +/- 6.4 %\n",
      "\t AUROC : 0.84 +/- 0.05\n",
      "\t Précision : 78.0 +/- 5.5 %\n"
     ]
    }
   ],
   "source": [
    "clfs = {\"NBayes\" : GaussianNB(),\n",
    "\"Tree\" : DecisionTreeClassifier(),\n",
    "\"MLP\" : MLPClassifier([6, 20, 10, 2]),\n",
    "\"KNN\" : KNeighborsClassifier(n_neighbors=19, p=1),\n",
    "\"Bagging\" : BaggingClassifier(n_estimators=50),\n",
    "\"Adaboost\" : AdaBoostClassifier(n_estimators=50),\n",
    "\"Randomforest\" : RandomForestClassifier(n_estimators=50)\n",
    "}\n",
    "run_classifiers(clfs, X_numeric, Y_numeric)\n"
   ]
  },
  {
   "cell_type": "markdown",
   "metadata": {},
   "source": [
    "Les algorithmes les plus performants sont Adaboost** et Naive Bayes qui donnent une AUROC relativement proche de 1 et une précision bien supérieure aux autres. Les performances du MLP sont étonnantes car à la fois très faibles mais présentant une grande incertitude. On va donc s'intéresser à faire évoluer l'architecture du MLP afin d'obtenir de meilleures performances. Cependant, le temps d'entrainement est trop long pour le rendre intéressant vis-à-vis des autres candidats.\n",
    "\n",
    "<table border=\"0\" cellpadding=\"0\" cellspacing=\"0\" id=\"sheet0\" class=\"sheet0 gridlines\">\n",
    "        <colgroup><col class=\"col0\">\n",
    "        <col class=\"col1\">\n",
    "        <col class=\"col2\">\n",
    "        <col class=\"col3\">\n",
    "        <col class=\"col4\">\n",
    "        </colgroup><tbody>\n",
    "          <tr class=\"row0\">\n",
    "            <td class=\"column0 style1 null\"></td>\n",
    "            <td class=\"column1 style1 s\">Accuracy</td>\n",
    "            <td class=\"column2 style1 s\">Précision</td>\n",
    "            <td class=\"column3 style1 s\">Auroc</td>\n",
    "            <td class=\"column4 style1 s\">Time</td>\n",
    "          </tr>\n",
    "          <tr class=\"row1\">\n",
    "            <td class=\"column0 style1 s\">Nbayes</td>\n",
    "            <td class=\"column1 style2 s\">71.0%</td>\n",
    "              <td class=\"column2 style4 s\"><strong>85.0%</strong></td>\n",
    "            <td class=\"column3 style1 s\">0.79</td>\n",
    "            <td class=\"column4 style3 s\"><strong>0.6ms</strong></td>\n",
    "          </tr>\n",
    "          <tr class=\"row2\">\n",
    "            <td class=\"column0 style1 s\">CART</td>\n",
    "            <td class=\"column1 style2 s\">71.0%</td>\n",
    "            <td class=\"column2 style6 s\">65.0%</td>\n",
    "            <td class=\"column3 style7 s\">0.71</td>\n",
    "            <td class=\"column4 style7 s\">1.3ms</td>\n",
    "          </tr>\n",
    "          <tr class=\"row3\">\n",
    "            <td class=\"column0 style1 s\">MLP</td>\n",
    "            <td class=\"column1 style2 s\">54.0%</td>\n",
    "            <td class=\"column2 style6 s\">33.0%</td>\n",
    "            <td class=\"column3 style1 s\">0.57</td>\n",
    "            <td class=\"column4 style1 s\">211.4ms</td>\n",
    "          </tr>\n",
    "          <tr class=\"row4\">\n",
    "            <td class=\"column0 style1 s\">KNN</td>\n",
    "            <td class=\"column1 style2 s\">68.0%</td>\n",
    "            <td class=\"column2 style6 s\">73.0%</td>\n",
    "            <td class=\"column3 style6 s\">0.75</td>\n",
    "            <td class=\"column4 style3 s\"><strong>0.5ms</strong></td>\n",
    "          </tr>\n",
    "          <tr class=\"row5\">\n",
    "            <td class=\"column0 style8 s\">Bagging</td>\n",
    "            <td class=\"column1 style2 s\">77.0%</td>\n",
    "            <td class=\"column2 style6 s\">77.0%</td>\n",
    "            <td class=\"column3 style8 s\">0.83</td>\n",
    "            <td class=\"column4 style8 s\">62.0ms</td>\n",
    "          </tr>\n",
    "          <tr class=\"row6\">\n",
    "            <td class=\"column0 style8 s\">Adaboost</td>\n",
    "            <td class=\"column1 style5 s\"><strong>79.0%</strong></td>\n",
    "            <td class=\"column2 style6 s\">79.0%</td>\n",
    "            <td class=\"column3 style9 s\"><strong>0.85</strong></td>\n",
    "            <td class=\"column4 style10 s\">40.8ms</td>\n",
    "          </tr>\n",
    "          <tr class=\"row7\">\n",
    "            <td class=\"column0 style8 s\">RandomForest</td>\n",
    "            <td class=\"column1 style2 s\">77.0%</td>\n",
    "            <td class=\"column2 style6 s\">80.0%</td>\n",
    "            <td class=\"column3 style8 s\">0.84</td>\n",
    "            <td class=\"column4 style8 s\">37.6ms</td>\n",
    "          </tr>\n",
    "        </tbody>\n",
    "    </table>\n",
    "\n",
    "\n",
    "### Normalisation des données"
   ]
  },
  {
   "cell_type": "code",
   "execution_count": 16,
   "metadata": {
    "scrolled": true
   },
   "outputs": [
    {
     "name": "stdout",
     "output_type": "stream",
     "text": [
      "NBayes ( 0.6 ms)\n",
      "\t Accuracy : 71.0 +/- 5.8 %\n",
      "\t AUROC : 0.79 +/- 0.06\n",
      "\t Précision : 85.0 +/- 8.9 %\n",
      "Tree ( 1.6 ms)\n",
      "\t Accuracy : 70.0 +/- 5.1 %\n",
      "\t AUROC : 0.7 +/- 0.04\n",
      "\t Précision : 68.0 +/- 3.9 %\n",
      "MLP ( 342.8 ms)\n",
      "\t Accuracy : 72.0 +/- 7.4 %\n",
      "\t AUROC : 0.82 +/- 0.05\n",
      "\t Précision : 73.0 +/- 18.3 %\n",
      "KNN ( 1.1 ms)\n",
      "\t Accuracy : 74.0 +/- 6.9 %\n",
      "\t AUROC : 0.82 +/- 0.04\n",
      "\t Précision : 87.0 +/- 3.6 %\n",
      "Bagging ( 85.3 ms)\n",
      "\t Accuracy : 79.0 +/- 5.1 %\n",
      "\t AUROC : 0.83 +/- 0.05\n",
      "\t Précision : 79.0 +/- 6.3 %\n",
      "Adaboost ( 52.9 ms)\n",
      "\t Accuracy : 79.0 +/- 5.3 %\n",
      "\t AUROC : 0.85 +/- 0.05\n",
      "\t Précision : 79.0 +/- 4.2 %\n",
      "Randomforest ( 56.6 ms)\n",
      "\t Accuracy : 76.0 +/- 4.9 %\n",
      "\t AUROC : 0.85 +/- 0.05\n",
      "\t Précision : 80.0 +/- 4.7 %\n"
     ]
    }
   ],
   "source": [
    "scaler = StandardScaler()\n",
    "Xn_scaled = scaler.fit_transform(X_numeric)\n",
    "run_classifiers(clfs, Xn_scaled, Y_numeric)"
   ]
  },
  {
   "cell_type": "markdown",
   "metadata": {},
   "source": [
    "La normalisation semble augmenter les performances des classifieurs \"k plus proches voisins\" et Perceptron multicouches dont les scores se sont stabilisés. Elle n'a pas eu d'impact significatif sur l'arbre CART, car ce dernier n'est pas influencé par la plage de valeurs de chaque attribut. C'est également le cas pour les classifieurs Bagging, Adaboost et Random-Forest (et ce pour les mêmes raisons).\n",
    "\n",
    " <table border=\"0\" cellpadding=\"0\" cellspacing=\"0\" id=\"sheet0\" class=\"sheet0 gridlines\">\n",
    "        <col class=\"col0\">\n",
    "        <col class=\"col1\">\n",
    "        <col class=\"col2\">\n",
    "        <col class=\"col3\">\n",
    "        <col class=\"col4\">\n",
    "        <tbody>\n",
    "          <tr class=\"row0\">\n",
    "            <td class=\"column0 style1 null\"></td>\n",
    "            <td class=\"column1 style1 s\">Accuracy</td>\n",
    "            <td class=\"column2 style1 s\">Précision</td>\n",
    "            <td class=\"column3 style1 s\">Auroc</td>\n",
    "            <td class=\"column4 style11 null\"></td>\n",
    "          </tr>\n",
    "          <tr class=\"row1\">\n",
    "            <td class=\"column0 style1 s\">Nbayes</td>\n",
    "            <td class=\"column1 style2 s\">71.0%</td>\n",
    "            <td class=\"column2 style6 s\">85.0%</td>\n",
    "            <td class=\"column3 style1 s\">0.79</td>\n",
    "            <td class=\"column4 style12 null\"></td>\n",
    "          </tr>\n",
    "          <tr class=\"row2\">\n",
    "            <td class=\"column0 style1 s\">CART</td>\n",
    "            <td class=\"column1 style2 s\">71.0%</td>\n",
    "            <td class=\"column2 style6 s\">66.0%</td>\n",
    "            <td class=\"column3 style8 s\">0.71</td>\n",
    "            <td class=\"column4 style13 null\"></td>\n",
    "          </tr>\n",
    "          <tr class=\"row3\">\n",
    "            <td class=\"column0 style1 s\"><strong>MLP</strong></td>\n",
    "            <td class=\"column1 style5 s\"><strong>73.0%</strong></td>\n",
    "            <td class=\"column2 style4 s\"><strong>70.0%</strong></td>\n",
    "            <td class=\"column3 style3 s\"><strong>0.78</strong></td>\n",
    "            <td class=\"column4 style11 null\"></td>\n",
    "          </tr>\n",
    "          <tr class=\"row4\">\n",
    "            <td class=\"column0 style1 s\"><strong>KNN</strong></td>\n",
    "            <td class=\"column1 style5 s\"><strong>74.0%</strong></td>\n",
    "            <td class=\"column2 style4 s\"><strong>87.0%</strong></td>\n",
    "            <td class=\"column3 style4 s\"><strong>0.82</strong></td>\n",
    "            <td class=\"column4 style12 null\"></td>\n",
    "          </tr>\n",
    "          <tr class=\"row5\">\n",
    "            <td class=\"column0 style9 s\">Bagging</td>\n",
    "            <td class=\"column1 style2 s\">77.0%</td>\n",
    "            <td class=\"column2 style6 s\">77.0%</td>\n",
    "            <td class=\"column3 style9 s\">0.83</td>\n",
    "            <td class=\"column4 style14 null\"></td>\n",
    "          </tr>\n",
    "          <tr class=\"row6\">\n",
    "            <td class=\"column0 style9 s\">Adaboost</td>\n",
    "            <td class=\"column1 style7 s\">79.0%</td>\n",
    "            <td class=\"column2 style6 s\">79.0%</td>\n",
    "            <td class=\"column3 style10 s\">0.85</td>\n",
    "            <td class=\"column4 style15 null\"></td>\n",
    "          </tr>\n",
    "          <tr class=\"row7\">\n",
    "            <td class=\"column0 style9 s\">RandomForest</td>\n",
    "            <td class=\"column1 style2 s\">77.0%</td>\n",
    "            <td class=\"column2 style6 s\">80.0%</td>\n",
    "            <td class=\"column3 style9 s\">0.84</td>\n",
    "            <td class=\"column4 style14 null\"></td>\n",
    "          </tr>\n",
    "        </tbody>\n",
    "    </table>\n",
    "\n",
    "### Traitement des données manquantes\n",
    "\n",
    "La suppression des lignes avec des données manquantes résulte en une perte d'information. On doit donc conserver ces lignes en remplaçant ces données par une valeur bien choisie."
   ]
  },
  {
   "cell_type": "code",
   "execution_count": 17,
   "metadata": {},
   "outputs": [],
   "source": [
    "from sklearn.preprocessing import OneHotEncoder\n",
    "from sklearn.impute import SimpleImputer as Imputer\n",
    "\n",
    "X_cat = np.copy(X[:, col_cat])\n",
    "\n",
    "for col_id in range(len(col_cat)):\n",
    "    unique_val, val_idx = np.unique(X_cat[:, col_id], return_inverse=True)\n",
    "    X_cat[:, col_id] = val_idx\n",
    "    \n",
    "imp_cat = Imputer(missing_values=0, strategy='most_frequent')\n",
    "X_cat[:, range(5)] = imp_cat.fit_transform(X_cat[:, range(5)])\n",
    "\n",
    "\n",
    "X_num = np.copy(X[:, col_num])\n",
    "X_num[X_num == '?'] = np.nan\n",
    "X_num = X_num.astype(float)\n",
    "imp_num = Imputer(missing_values=np.nan, strategy='mean')\n",
    "X_num = imp_num.fit_transform(X_num)\n"
   ]
  },
  {
   "cell_type": "markdown",
   "metadata": {},
   "source": [
    "Dans notre cas, nous remplaçons les données manquantes selon la procédure suivantes :\n",
    "- Pour les données catégorielles : on utilise la valeur la plus fréquente dans la colonne\n",
    "- Pour les données numériques : on utilise la moyenne des *features* sur la colonne\n",
    "\n",
    "Dans notre cas, le nombre de lignes manquantes est faible par rapport au nombre de lignes dans le fichier. Par conséquent cette procédure influe peu sur les performances."
   ]
  },
  {
   "cell_type": "markdown",
   "metadata": {},
   "source": [
    "### Traitement des variables catégorielles et concaténation"
   ]
  },
  {
   "cell_type": "markdown",
   "metadata": {},
   "source": [
    "Dans la partie précédente, nous nous sommes restreints aux données numériques. Il serait intéressant de trouver une solution pour exploiter les données catégorielles afin de rajouter de l'information dans la base de données.\n",
    "\n",
    "Pour exploiter les données catégorielles, nous allons nous pencher sur l'encodage One-Hot : il consiste à transformer une variable catégorielle à $m$ modalités en $m$ variables binaires.\n",
    "Nous pourrons ensuite concaténer les variables encodées en binaire avec les données numériques normalisées et tester à nouveau les classifieurs."
   ]
  },
  {
   "cell_type": "code",
   "execution_count": 18,
   "metadata": {},
   "outputs": [
    {
     "name": "stdout",
     "output_type": "stream",
     "text": [
      "NBayes ( 0.3 ms)\n",
      "\t Accuracy : 71.0 +/- 6.0 %\n",
      "\t AUROC : 0.88 +/- 0.04\n",
      "\t Précision : 88.0 +/- 5.8 %\n",
      "Tree ( 2.6 ms)\n",
      "\t Accuracy : 79.0 +/- 3.7 %\n",
      "\t AUROC : 0.79 +/- 0.04\n",
      "\t Précision : 76.0 +/- 5.2 %\n",
      "MLP ( 411.0 ms)\n",
      "\t Accuracy : 81.0 +/- 9.3 %\n",
      "\t AUROC : 0.91 +/- 0.03\n",
      "\t Précision : 65.0 +/- 33.1 %\n",
      "KNN ( 0.4 ms)\n",
      "\t Accuracy : 86.0 +/- 4.2 %\n",
      "\t AUROC : 0.92 +/- 0.04\n",
      "\t Précision : 88.0 +/- 6.2 %\n",
      "Bagging ( 116.6 ms)\n",
      "\t Accuracy : 86.0 +/- 4.6 %\n",
      "\t AUROC : 0.93 +/- 0.04\n",
      "\t Précision : 85.0 +/- 7.0 %\n",
      "Adaboost ( 63.4 ms)\n",
      "\t Accuracy : 85.0 +/- 4.5 %\n",
      "\t AUROC : 0.91 +/- 0.04\n",
      "\t Précision : 81.0 +/- 8.7 %\n",
      "Randomforest ( 56.1 ms)\n",
      "\t Accuracy : 87.0 +/- 3.4 %\n",
      "\t AUROC : 0.93 +/- 0.03\n",
      "\t Précision : 86.0 +/- 8.0 %\n"
     ]
    }
   ],
   "source": [
    "X_cat_bin = OneHotEncoder().fit_transform(X_cat).toarray()\n",
    "\n",
    "X_num_scale = StandardScaler().fit_transform(X_num)\n",
    "X_tot = np.concatenate([X_num_scale, X_cat_bin], axis=1)\n",
    "\n",
    "run_classifiers(clfs, X_tot, Y)"
   ]
  },
  {
   "cell_type": "markdown",
   "metadata": {},
   "source": [
    "L'utilisation des données catégorielles permet d'améliorer les performances générales de tous les algorithmes d'environ 10% (à l'exception de NBayes). Random-Forest fournit les meilleures performances avec une accuracy de 87% et une AUROC de 0.93. La précision est également satisfaisante.\n",
    "\n",
    "<table>\n",
    "<tr><td><th>Données numériques normalisées uniquement </th></td><th>Données complètes</th></tr>\n",
    "<tr><td width=\"250px\">\n",
    "<td>\n",
    "   <table border=\"0\" cellpadding=\"0\" cellspacing=\"0\" id=\"sheet0\" class=\"sheet0 gridlines\">\n",
    "        <col class=\"col0\">\n",
    "        <col class=\"col1\">\n",
    "        <col class=\"col2\">\n",
    "        <col class=\"col3\">\n",
    "        <col class=\"col4\">\n",
    "        <tbody>\n",
    "          <tr class=\"row0\">\n",
    "            <td class=\"column0 style1 null\"></td>\n",
    "            <td class=\"column1 style1 s\">Accuracy</td>\n",
    "            <td class=\"column2 style1 s\">Précision</td>\n",
    "            <td class=\"column3 style1 s\">Auroc</td>\n",
    "            <td class=\"column4 style11 null\"></td>\n",
    "          </tr>\n",
    "          <tr class=\"row1\">\n",
    "            <td class=\"column0 style1 s\">Nbayes</td>\n",
    "            <td class=\"column1 style2 s\">71.0%</td>\n",
    "            <td class=\"column2 style6 s\">85.0%</td>\n",
    "            <td class=\"column3 style1 s\">0.79</td>\n",
    "            <td class=\"column4 style12 null\"></td>\n",
    "          </tr>\n",
    "          <tr class=\"row2\">\n",
    "            <td class=\"column0 style1 s\">CART</td>\n",
    "            <td class=\"column1 style2 s\">71.0%</td>\n",
    "            <td class=\"column2 style6 s\">66.0%</td>\n",
    "            <td class=\"column3 style8 s\">0.71</td>\n",
    "            <td class=\"column4 style13 null\"></td>\n",
    "          </tr>\n",
    "          <tr class=\"row3\">\n",
    "            <td class=\"column0 style1 s\">MLP</td>\n",
    "            <td class=\"column1 style5 s\">73.0%</td>\n",
    "            <td class=\"column2 style4 s\">70.0%</td>\n",
    "            <td class=\"column3 style3 s\">0.78</td>\n",
    "            <td class=\"column4 style11 null\"></td>\n",
    "          </tr>\n",
    "          <tr class=\"row4\">\n",
    "            <td class=\"column0 style1 s\">KNN</td>\n",
    "            <td class=\"column1 style5 s\">74.0%</td>\n",
    "            <td class=\"column2 style4 s\">87.0%</td>\n",
    "            <td class=\"column3 style4 s\">0.82</td>\n",
    "            <td class=\"column4 style12 null\"></td>\n",
    "          </tr>\n",
    "          <tr class=\"row5\">\n",
    "            <td class=\"column0 style9 s\">Bagging</td>\n",
    "            <td class=\"column1 style2 s\">77.0%</td>\n",
    "            <td class=\"column2 style6 s\">77.0%</td>\n",
    "            <td class=\"column3 style9 s\">0.83</td>\n",
    "            <td class=\"column4 style14 null\"></td>\n",
    "          </tr>\n",
    "          <tr class=\"row6\">\n",
    "            <td class=\"column0 style9 s\">Adaboost</td>\n",
    "            <td class=\"column1 style7 s\">79.0%</td>\n",
    "            <td class=\"column2 style6 s\">79.0%</td>\n",
    "            <td class=\"column3 style10 s\">0.85</td>\n",
    "            <td class=\"column4 style15 null\"></td>\n",
    "          </tr>\n",
    "          <tr class=\"row7\">\n",
    "            <td class=\"column0 style9 s\">RandomForest</td>\n",
    "            <td class=\"column1 style2 s\">77.0%</td>\n",
    "            <td class=\"column2 style6 s\">80.0%</td>\n",
    "            <td class=\"column3 style9 s\">0.84</td>\n",
    "            <td class=\"column4 style14 null\"></td>\n",
    "          </tr>\n",
    "        </tbody>\n",
    "    </table>\n",
    "    </td>\n",
    "    <td>\n",
    "            <table border=\"0\" cellpadding=\"0\" cellspacing=\"0\" id=\"sheet0\" class=\"sheet0 gridlines\">\n",
    "        <col class=\"col0\">\n",
    "        <col class=\"col1\">\n",
    "        <col class=\"col2\">\n",
    "        <col class=\"col3\">\n",
    "        <col class=\"col4\">\n",
    "        <tbody>\n",
    "          <tr class=\"row0\">\n",
    "            <td class=\"column0 style1 null\"></td>\n",
    "            <td class=\"column1 style1 s\">Accuracy</td>\n",
    "            <td class=\"column2 style1 s\">Précision</td>\n",
    "            <td class=\"column3 style1 s\">Auroc</td>\n",
    "            <td class=\"column4 style11 null\"></td>\n",
    "          </tr>\n",
    "          <tr class=\"row1\">\n",
    "            <td class=\"column0 style1 s\">Nbayes</td>\n",
    "            <td class=\"column1 style2 s\">71.0%</td>\n",
    "            <td class=\"column2 style6 s\"><strong>88.0%</strong></td>\n",
    "            <td class=\"column3 style1 s\"><strong>0.88</strong></td>\n",
    "            <td class=\"column4 style12 null\"></td>\n",
    "          </tr>\n",
    "          <tr class=\"row2\">\n",
    "            <td class=\"column0 style1 s\">CART</td>\n",
    "            <td class=\"column1 style2 s\"><strong>79.0%</strong></td>\n",
    "            <td class=\"column2 style6 s\"><strong>78.0%</strong></td>\n",
    "            <td class=\"column3 style8 s\"><strong>0.80</strong></td>\n",
    "            <td class=\"column4 style13 null\"></td>\n",
    "          </tr>\n",
    "          <tr class=\"row3\">\n",
    "            <td class=\"column0 style1 s\">MLP</td>\n",
    "            <td class=\"column1 style5 s\"><strong>76.0%</strong></td>\n",
    "            <td class=\"column2 style4 s\"><strong>76.0%</strong></td>\n",
    "            <td class=\"column3 style3 s\"><strong>0.84</strong></td>\n",
    "            <td class=\"column4 style11 null\"></td>\n",
    "          </tr>\n",
    "          <tr class=\"row4\">\n",
    "            <td class=\"column0 style1 s\">KNN</td>\n",
    "            <td class=\"column1 style5 s\"><strong>86.0%</strong></td>\n",
    "            <td class=\"column2 style4 s\"><strong>88.0%</strong></td>\n",
    "            <td class=\"column3 style4 s\"><strong>0.92</strong></td>\n",
    "            <td class=\"column4 style12 null\"></td>\n",
    "          </tr>\n",
    "          <tr class=\"row5\">\n",
    "            <td class=\"column0 style9 s\">Bagging</td>\n",
    "            <td class=\"column1 style2 s\"><strong>86.0%</strong></td>\n",
    "            <td class=\"column2 style6 s\"><strong>84.0%</strong></td>\n",
    "            <td class=\"column3 style9 s\"><strong>0.92</strong></td>\n",
    "            <td class=\"column4 style14 null\"></td>\n",
    "          </tr>\n",
    "          <tr class=\"row6\">\n",
    "            <td class=\"column0 style9 s\">Adaboost</td>\n",
    "            <td class=\"column1 style7 s\"><strong>85.0%</strong></td>\n",
    "            <td class=\"column2 style6 s\"><strong>81.0%</strong></td>\n",
    "            <td class=\"column3 style10 s\"><strong>0.91</strong></td>\n",
    "            <td class=\"column4 style15 null\"></td>\n",
    "          </tr>\n",
    "          <tr class=\"row7\">\n",
    "            <td class=\"column0 style9 s\">RandomForest</td>\n",
    "            <td class=\"column1 style2 s\"><strong>87.0%</strong></td>\n",
    "            <td class=\"column2 style6 s\"><strong>86.0%</strong></td>\n",
    "            <td class=\"column3 style9 s\"><strong>0.93</strong></td>\n",
    "            <td class=\"column4 style14 null\"></td>\n",
    "          </tr>\n",
    "        </tbody>\n",
    "    </table>\n",
    "    </td>\n",
    "</td><td width=\"500px\">\n",
    "\n",
    "\n",
    "</td></tr> </table>"
   ]
  },
  {
   "cell_type": "markdown",
   "metadata": {},
   "source": [
    "# Conclusion\n",
    "\n",
    "Ce TP dresse un tableau assez large des différentes méthodes et techniques pouvant intervenir dans une procédure de\n",
    "*Machine Learning*. On notera finalement l'importance d'un bon traitement des données en amont de l'algorithme \n",
    "d'apprentissage à proprement parlé pour améliorer les performances et le temps de calculs (PCA, Normalisation, \n",
    "Encodage OneHot, Imputer). \n",
    "\n",
    "Les algorithmes sont également sensibles aux hyperparamètres qu'il faut choisir correctement, c'est pourquoi des \n",
    "procédures de tests de ces paramètres peuvent être nécessaires."
   ]
  }
 ],
 "metadata": {
  "kernelspec": {
   "display_name": "Python 3 (ipykernel)",
   "language": "python",
   "name": "python3"
  },
  "language_info": {
   "codemirror_mode": {
    "name": "ipython",
    "version": 3
   },
   "file_extension": ".py",
   "mimetype": "text/x-python",
   "name": "python",
   "nbconvert_exporter": "python",
   "pygments_lexer": "ipython3",
   "version": "3.9.9"
  }
 },
 "nbformat": 4,
 "nbformat_minor": 2
}
